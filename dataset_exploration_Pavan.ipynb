{
 "cells": [
  {
   "cell_type": "code",
   "execution_count": 1,
   "metadata": {},
   "outputs": [],
   "source": [
    "import pandas as pd\n",
    "import numpy as np\n",
    "import matplotlib.pyplot as plt"
   ]
  },
  {
   "cell_type": "code",
   "execution_count": 2,
   "metadata": {},
   "outputs": [],
   "source": [
    "file_name_recipe = \"PP_recipes\"\n",
    "file_name_users = \"PP_users\"\n",
    "file_name_raw_interaction = \"RAW_interactions\"\n",
    "file_name_raw_recipes = \"RAW_recipes\"\n",
    "csv_extension = \".csv\"\n",
    "directory = \"D:/DKE-(19-22)/Year-3/Period-2/Recommender Systems/GroupAssignment/RecommenderSystemsProject/\""
   ]
  },
  {
   "cell_type": "code",
   "execution_count": 3,
   "metadata": {},
   "outputs": [],
   "source": [
    "df_recipe = pd.read_csv(directory + file_name_recipe + csv_extension)\n",
    "df_user = pd.read_csv(directory + file_name_users + csv_extension)\n",
    "df_raw_interaction = pd.read_csv(directory + file_name_raw_interaction + csv_extension)\n",
    "df_raw_recipes = pd.read_csv(directory + file_name_raw_recipes + csv_extension)"
   ]
  },
  {
   "cell_type": "code",
   "execution_count": 4,
   "metadata": {},
   "outputs": [
    {
     "data": {
      "text/html": [
       "<div>\n",
       "<style scoped>\n",
       "    .dataframe tbody tr th:only-of-type {\n",
       "        vertical-align: middle;\n",
       "    }\n",
       "\n",
       "    .dataframe tbody tr th {\n",
       "        vertical-align: top;\n",
       "    }\n",
       "\n",
       "    .dataframe thead th {\n",
       "        text-align: right;\n",
       "    }\n",
       "</style>\n",
       "<table border=\"1\" class=\"dataframe\">\n",
       "  <thead>\n",
       "    <tr style=\"text-align: right;\">\n",
       "      <th></th>\n",
       "      <th>user_id</th>\n",
       "      <th>recipe_id</th>\n",
       "      <th>date</th>\n",
       "      <th>rating</th>\n",
       "      <th>review</th>\n",
       "    </tr>\n",
       "  </thead>\n",
       "  <tbody>\n",
       "    <tr>\n",
       "      <th>0</th>\n",
       "      <td>38094</td>\n",
       "      <td>40893</td>\n",
       "      <td>2003-02-17</td>\n",
       "      <td>4</td>\n",
       "      <td>Great with a salad. Cooked on top of stove for...</td>\n",
       "    </tr>\n",
       "    <tr>\n",
       "      <th>1</th>\n",
       "      <td>1293707</td>\n",
       "      <td>40893</td>\n",
       "      <td>2011-12-21</td>\n",
       "      <td>5</td>\n",
       "      <td>So simple, so delicious! Great for chilly fall...</td>\n",
       "    </tr>\n",
       "    <tr>\n",
       "      <th>2</th>\n",
       "      <td>8937</td>\n",
       "      <td>44394</td>\n",
       "      <td>2002-12-01</td>\n",
       "      <td>4</td>\n",
       "      <td>This worked very well and is EASY.  I used not...</td>\n",
       "    </tr>\n",
       "    <tr>\n",
       "      <th>3</th>\n",
       "      <td>126440</td>\n",
       "      <td>85009</td>\n",
       "      <td>2010-02-27</td>\n",
       "      <td>5</td>\n",
       "      <td>I made the Mexican topping and took it to bunk...</td>\n",
       "    </tr>\n",
       "    <tr>\n",
       "      <th>4</th>\n",
       "      <td>57222</td>\n",
       "      <td>85009</td>\n",
       "      <td>2011-10-01</td>\n",
       "      <td>5</td>\n",
       "      <td>Made the cheddar bacon topping, adding a sprin...</td>\n",
       "    </tr>\n",
       "  </tbody>\n",
       "</table>\n",
       "</div>"
      ],
      "text/plain": [
       "   user_id  recipe_id        date  rating  \\\n",
       "0    38094      40893  2003-02-17       4   \n",
       "1  1293707      40893  2011-12-21       5   \n",
       "2     8937      44394  2002-12-01       4   \n",
       "3   126440      85009  2010-02-27       5   \n",
       "4    57222      85009  2011-10-01       5   \n",
       "\n",
       "                                              review  \n",
       "0  Great with a salad. Cooked on top of stove for...  \n",
       "1  So simple, so delicious! Great for chilly fall...  \n",
       "2  This worked very well and is EASY.  I used not...  \n",
       "3  I made the Mexican topping and took it to bunk...  \n",
       "4  Made the cheddar bacon topping, adding a sprin...  "
      ]
     },
     "execution_count": 4,
     "metadata": {},
     "output_type": "execute_result"
    }
   ],
   "source": [
    "df_raw_interaction.head()"
   ]
  },
  {
   "cell_type": "code",
   "execution_count": 5,
   "metadata": {},
   "outputs": [
    {
     "data": {
      "text/plain": [
       "1132367"
      ]
     },
     "execution_count": 5,
     "metadata": {},
     "output_type": "execute_result"
    }
   ],
   "source": [
    "len(df_raw_interaction)"
   ]
  },
  {
   "cell_type": "code",
   "execution_count": 6,
   "metadata": {},
   "outputs": [
    {
     "data": {
      "text/html": [
       "<div>\n",
       "<style scoped>\n",
       "    .dataframe tbody tr th:only-of-type {\n",
       "        vertical-align: middle;\n",
       "    }\n",
       "\n",
       "    .dataframe tbody tr th {\n",
       "        vertical-align: top;\n",
       "    }\n",
       "\n",
       "    .dataframe thead th {\n",
       "        text-align: right;\n",
       "    }\n",
       "</style>\n",
       "<table border=\"1\" class=\"dataframe\">\n",
       "  <thead>\n",
       "    <tr style=\"text-align: right;\">\n",
       "      <th></th>\n",
       "      <th>u</th>\n",
       "      <th>techniques</th>\n",
       "      <th>items</th>\n",
       "      <th>n_items</th>\n",
       "      <th>ratings</th>\n",
       "      <th>n_ratings</th>\n",
       "    </tr>\n",
       "  </thead>\n",
       "  <tbody>\n",
       "    <tr>\n",
       "      <th>0</th>\n",
       "      <td>0</td>\n",
       "      <td>[8, 0, 0, 5, 6, 0, 0, 1, 0, 9, 1, 0, 0, 0, 1, ...</td>\n",
       "      <td>[1118, 27680, 32541, 137353, 16428, 28815, 658...</td>\n",
       "      <td>31</td>\n",
       "      <td>[5.0, 5.0, 5.0, 5.0, 5.0, 5.0, 5.0, 4.0, 4.0, ...</td>\n",
       "      <td>31</td>\n",
       "    </tr>\n",
       "    <tr>\n",
       "      <th>1</th>\n",
       "      <td>1</td>\n",
       "      <td>[11, 0, 0, 2, 12, 0, 0, 0, 0, 14, 5, 0, 0, 0, ...</td>\n",
       "      <td>[122140, 77036, 156817, 76957, 68818, 155600, ...</td>\n",
       "      <td>39</td>\n",
       "      <td>[5.0, 5.0, 5.0, 5.0, 5.0, 5.0, 5.0, 5.0, 5.0, ...</td>\n",
       "      <td>39</td>\n",
       "    </tr>\n",
       "    <tr>\n",
       "      <th>2</th>\n",
       "      <td>2</td>\n",
       "      <td>[13, 0, 0, 7, 5, 0, 1, 2, 1, 11, 0, 1, 0, 0, 1...</td>\n",
       "      <td>[168054, 87218, 35731, 1, 20475, 9039, 124834,...</td>\n",
       "      <td>27</td>\n",
       "      <td>[3.0, 4.0, 4.0, 4.0, 4.0, 4.0, 4.0, 4.0, 5.0, ...</td>\n",
       "      <td>27</td>\n",
       "    </tr>\n",
       "    <tr>\n",
       "      <th>3</th>\n",
       "      <td>3</td>\n",
       "      <td>[498, 13, 4, 218, 376, 3, 2, 33, 16, 591, 10, ...</td>\n",
       "      <td>[163193, 156352, 102888, 19914, 169438, 55772,...</td>\n",
       "      <td>1513</td>\n",
       "      <td>[5.0, 5.0, 5.0, 5.0, 4.0, 4.0, 5.0, 5.0, 5.0, ...</td>\n",
       "      <td>1513</td>\n",
       "    </tr>\n",
       "    <tr>\n",
       "      <th>4</th>\n",
       "      <td>4</td>\n",
       "      <td>[161, 1, 1, 86, 93, 0, 0, 11, 2, 141, 0, 16, 0...</td>\n",
       "      <td>[72857, 38652, 160427, 55772, 119999, 141777, ...</td>\n",
       "      <td>376</td>\n",
       "      <td>[5.0, 5.0, 5.0, 5.0, 4.0, 4.0, 5.0, 4.0, 5.0, ...</td>\n",
       "      <td>376</td>\n",
       "    </tr>\n",
       "  </tbody>\n",
       "</table>\n",
       "</div>"
      ],
      "text/plain": [
       "   u                                         techniques  \\\n",
       "0  0  [8, 0, 0, 5, 6, 0, 0, 1, 0, 9, 1, 0, 0, 0, 1, ...   \n",
       "1  1  [11, 0, 0, 2, 12, 0, 0, 0, 0, 14, 5, 0, 0, 0, ...   \n",
       "2  2  [13, 0, 0, 7, 5, 0, 1, 2, 1, 11, 0, 1, 0, 0, 1...   \n",
       "3  3  [498, 13, 4, 218, 376, 3, 2, 33, 16, 591, 10, ...   \n",
       "4  4  [161, 1, 1, 86, 93, 0, 0, 11, 2, 141, 0, 16, 0...   \n",
       "\n",
       "                                               items  n_items  \\\n",
       "0  [1118, 27680, 32541, 137353, 16428, 28815, 658...       31   \n",
       "1  [122140, 77036, 156817, 76957, 68818, 155600, ...       39   \n",
       "2  [168054, 87218, 35731, 1, 20475, 9039, 124834,...       27   \n",
       "3  [163193, 156352, 102888, 19914, 169438, 55772,...     1513   \n",
       "4  [72857, 38652, 160427, 55772, 119999, 141777, ...      376   \n",
       "\n",
       "                                             ratings  n_ratings  \n",
       "0  [5.0, 5.0, 5.0, 5.0, 5.0, 5.0, 5.0, 4.0, 4.0, ...         31  \n",
       "1  [5.0, 5.0, 5.0, 5.0, 5.0, 5.0, 5.0, 5.0, 5.0, ...         39  \n",
       "2  [3.0, 4.0, 4.0, 4.0, 4.0, 4.0, 4.0, 4.0, 5.0, ...         27  \n",
       "3  [5.0, 5.0, 5.0, 5.0, 4.0, 4.0, 5.0, 5.0, 5.0, ...       1513  \n",
       "4  [5.0, 5.0, 5.0, 5.0, 4.0, 4.0, 5.0, 4.0, 5.0, ...        376  "
      ]
     },
     "execution_count": 6,
     "metadata": {},
     "output_type": "execute_result"
    }
   ],
   "source": [
    "df_user.head()"
   ]
  },
  {
   "cell_type": "code",
   "execution_count": 7,
   "metadata": {},
   "outputs": [
    {
     "data": {
      "text/html": [
       "<div>\n",
       "<style scoped>\n",
       "    .dataframe tbody tr th:only-of-type {\n",
       "        vertical-align: middle;\n",
       "    }\n",
       "\n",
       "    .dataframe tbody tr th {\n",
       "        vertical-align: top;\n",
       "    }\n",
       "\n",
       "    .dataframe thead th {\n",
       "        text-align: right;\n",
       "    }\n",
       "</style>\n",
       "<table border=\"1\" class=\"dataframe\">\n",
       "  <thead>\n",
       "    <tr style=\"text-align: right;\">\n",
       "      <th></th>\n",
       "      <th>id</th>\n",
       "      <th>i</th>\n",
       "      <th>name_tokens</th>\n",
       "      <th>ingredient_tokens</th>\n",
       "      <th>steps_tokens</th>\n",
       "      <th>techniques</th>\n",
       "      <th>calorie_level</th>\n",
       "      <th>ingredient_ids</th>\n",
       "    </tr>\n",
       "  </thead>\n",
       "  <tbody>\n",
       "    <tr>\n",
       "      <th>0</th>\n",
       "      <td>424415</td>\n",
       "      <td>23</td>\n",
       "      <td>[40480, 37229, 2911, 1019, 249, 6878, 6878, 28...</td>\n",
       "      <td>[[2911, 1019, 249, 6878], [1353], [6953], [153...</td>\n",
       "      <td>[40480, 40482, 21662, 481, 6878, 500, 246, 161...</td>\n",
       "      <td>[0, 0, 0, 0, 0, 0, 0, 0, 0, 1, 0, 0, 0, 0, 0, ...</td>\n",
       "      <td>0</td>\n",
       "      <td>[389, 7655, 6270, 1527, 3406]</td>\n",
       "    </tr>\n",
       "    <tr>\n",
       "      <th>1</th>\n",
       "      <td>146223</td>\n",
       "      <td>96900</td>\n",
       "      <td>[40480, 18376, 7056, 246, 1531, 2032, 40481]</td>\n",
       "      <td>[[17918], [25916], [2507, 6444], [8467, 1179],...</td>\n",
       "      <td>[40480, 40482, 729, 2525, 10906, 485, 43, 8393...</td>\n",
       "      <td>[1, 0, 0, 0, 0, 0, 0, 0, 0, 1, 0, 0, 0, 0, 0, ...</td>\n",
       "      <td>0</td>\n",
       "      <td>[2683, 4969, 800, 5298, 840, 2499, 6632, 7022,...</td>\n",
       "    </tr>\n",
       "    <tr>\n",
       "      <th>2</th>\n",
       "      <td>312329</td>\n",
       "      <td>120056</td>\n",
       "      <td>[40480, 21044, 16954, 8294, 556, 10837, 40481]</td>\n",
       "      <td>[[5867, 24176], [1353], [6953], [1301, 11332],...</td>\n",
       "      <td>[40480, 40482, 8240, 481, 24176, 296, 1353, 66...</td>\n",
       "      <td>[0, 0, 0, 0, 1, 0, 0, 0, 0, 0, 0, 1, 0, 0, 0, ...</td>\n",
       "      <td>1</td>\n",
       "      <td>[1257, 7655, 6270, 590, 5024, 1119, 4883, 6696...</td>\n",
       "    </tr>\n",
       "    <tr>\n",
       "      <th>3</th>\n",
       "      <td>74301</td>\n",
       "      <td>168258</td>\n",
       "      <td>[40480, 10025, 31156, 40481]</td>\n",
       "      <td>[[1270, 1645, 28447], [21601], [27952, 29471, ...</td>\n",
       "      <td>[40480, 40482, 5539, 21601, 1073, 903, 2324, 4...</td>\n",
       "      <td>[1, 0, 0, 0, 0, 0, 0, 0, 0, 0, 0, 0, 0, 0, 0, ...</td>\n",
       "      <td>0</td>\n",
       "      <td>[7940, 3609, 7060, 6265, 1170, 6654, 5003, 3561]</td>\n",
       "    </tr>\n",
       "    <tr>\n",
       "      <th>4</th>\n",
       "      <td>76272</td>\n",
       "      <td>109030</td>\n",
       "      <td>[40480, 17841, 252, 782, 2373, 1641, 2373, 252...</td>\n",
       "      <td>[[1430, 11434], [1430, 17027], [1615, 23, 695,...</td>\n",
       "      <td>[40480, 40482, 14046, 1430, 11434, 488, 17027,...</td>\n",
       "      <td>[0, 0, 0, 0, 0, 0, 0, 0, 0, 1, 0, 0, 0, 0, 0, ...</td>\n",
       "      <td>0</td>\n",
       "      <td>[3484, 6324, 7594, 243]</td>\n",
       "    </tr>\n",
       "  </tbody>\n",
       "</table>\n",
       "</div>"
      ],
      "text/plain": [
       "       id       i                                        name_tokens  \\\n",
       "0  424415      23  [40480, 37229, 2911, 1019, 249, 6878, 6878, 28...   \n",
       "1  146223   96900       [40480, 18376, 7056, 246, 1531, 2032, 40481]   \n",
       "2  312329  120056     [40480, 21044, 16954, 8294, 556, 10837, 40481]   \n",
       "3   74301  168258                       [40480, 10025, 31156, 40481]   \n",
       "4   76272  109030  [40480, 17841, 252, 782, 2373, 1641, 2373, 252...   \n",
       "\n",
       "                                   ingredient_tokens  \\\n",
       "0  [[2911, 1019, 249, 6878], [1353], [6953], [153...   \n",
       "1  [[17918], [25916], [2507, 6444], [8467, 1179],...   \n",
       "2  [[5867, 24176], [1353], [6953], [1301, 11332],...   \n",
       "3  [[1270, 1645, 28447], [21601], [27952, 29471, ...   \n",
       "4  [[1430, 11434], [1430, 17027], [1615, 23, 695,...   \n",
       "\n",
       "                                        steps_tokens  \\\n",
       "0  [40480, 40482, 21662, 481, 6878, 500, 246, 161...   \n",
       "1  [40480, 40482, 729, 2525, 10906, 485, 43, 8393...   \n",
       "2  [40480, 40482, 8240, 481, 24176, 296, 1353, 66...   \n",
       "3  [40480, 40482, 5539, 21601, 1073, 903, 2324, 4...   \n",
       "4  [40480, 40482, 14046, 1430, 11434, 488, 17027,...   \n",
       "\n",
       "                                          techniques  calorie_level  \\\n",
       "0  [0, 0, 0, 0, 0, 0, 0, 0, 0, 1, 0, 0, 0, 0, 0, ...              0   \n",
       "1  [1, 0, 0, 0, 0, 0, 0, 0, 0, 1, 0, 0, 0, 0, 0, ...              0   \n",
       "2  [0, 0, 0, 0, 1, 0, 0, 0, 0, 0, 0, 1, 0, 0, 0, ...              1   \n",
       "3  [1, 0, 0, 0, 0, 0, 0, 0, 0, 0, 0, 0, 0, 0, 0, ...              0   \n",
       "4  [0, 0, 0, 0, 0, 0, 0, 0, 0, 1, 0, 0, 0, 0, 0, ...              0   \n",
       "\n",
       "                                      ingredient_ids  \n",
       "0                      [389, 7655, 6270, 1527, 3406]  \n",
       "1  [2683, 4969, 800, 5298, 840, 2499, 6632, 7022,...  \n",
       "2  [1257, 7655, 6270, 590, 5024, 1119, 4883, 6696...  \n",
       "3   [7940, 3609, 7060, 6265, 1170, 6654, 5003, 3561]  \n",
       "4                            [3484, 6324, 7594, 243]  "
      ]
     },
     "execution_count": 7,
     "metadata": {},
     "output_type": "execute_result"
    }
   ],
   "source": [
    "df_recipe.head()"
   ]
  },
  {
   "cell_type": "code",
   "execution_count": 8,
   "metadata": {},
   "outputs": [],
   "source": [
    "df_user_group= df_user[df_user['n_ratings']>500]"
   ]
  },
  {
   "cell_type": "code",
   "execution_count": 9,
   "metadata": {},
   "outputs": [
    {
     "data": {
      "text/plain": [
       "195"
      ]
     },
     "execution_count": 9,
     "metadata": {},
     "output_type": "execute_result"
    }
   ],
   "source": [
    "len(df_user_group)"
   ]
  },
  {
   "cell_type": "code",
   "execution_count": 10,
   "metadata": {},
   "outputs": [
    {
     "data": {
      "text/plain": [
       "0     220\n",
       "1    1504\n",
       "2     168\n",
       "3    1487\n",
       "4     499\n",
       "5    2147\n",
       "6     754\n",
       "7     736\n",
       "8     832\n",
       "9     319\n",
       "Name: u, dtype: int64"
      ]
     },
     "execution_count": 10,
     "metadata": {},
     "output_type": "execute_result"
    }
   ],
   "source": [
    "random_selected_users= df_user_group.sample(n=10)\n",
    "random_selected_users\n",
    "select_column_df_userid = random_selected_users.reset_index()['u']\n",
    "select_column_df_userid"
   ]
  },
  {
   "cell_type": "code",
   "execution_count": 11,
   "metadata": {},
   "outputs": [
    {
     "name": "stdout",
     "output_type": "stream",
     "text": [
      "[220, 1504, 168, 1487, 499, 2147, 754, 736, 832, 319]\n"
     ]
    }
   ],
   "source": [
    "sample_user_group = list(select_column_df_userid)\n",
    "print(sample_user_group)\n"
   ]
  },
  {
   "cell_type": "code",
   "execution_count": null,
   "metadata": {},
   "outputs": [],
   "source": [
    "recipie_review_count=df_raw_interaction['recipe_id'].value_counts()"
   ]
  },
  {
   "cell_type": "markdown",
   "metadata": {},
   "source": [
    "Create a subset of recipies with over 100 ratings"
   ]
  },
  {
   "cell_type": "code",
   "execution_count": 13,
   "metadata": {},
   "outputs": [],
   "source": [
    "recipie_review_count.reset_index()\n",
    "recipie_review_count.iloc[0]\n",
    "sample_recipe=recipie_review_count[recipie_review_count.iloc[:]>100]"
   ]
  },
  {
   "cell_type": "code",
   "execution_count": 14,
   "metadata": {},
   "outputs": [],
   "source": [
    "sample_recipe_df = pd.DataFrame(sample_recipe)\n",
    "sample_recipe_df.reset_index(inplace=True)"
   ]
  },
  {
   "cell_type": "code",
   "execution_count": 15,
   "metadata": {},
   "outputs": [],
   "source": [
    "sample_recipes=list(sample_recipe_df['index'])"
   ]
  },
  {
   "cell_type": "code",
   "execution_count": 16,
   "metadata": {},
   "outputs": [],
   "source": [
    "interacted_recipes=df_user_group['items'].unique()"
   ]
  },
  {
   "cell_type": "code",
   "execution_count": null,
   "metadata": {},
   "outputs": [],
   "source": [
    "(interacted_recipes[0].split(','))"
   ]
  },
  {
   "cell_type": "code",
   "execution_count": 18,
   "metadata": {},
   "outputs": [],
   "source": [
    "def split_int(arr):\n",
    "    split_recipes=[]\n",
    "    for i in range (len(arr)):\n",
    "\n",
    "        to_split=arr[i]\n",
    "        print(type(to_split))\n",
    "        test_split=(to_split.split(','))\n",
    "        \n",
    "        for i in range (len(test_split)):\n",
    "            if i==0:\n",
    "                \n",
    "                split_recipes.append((int)(test_split[i][1:]))\n",
    "                \n",
    "            if i==len(test_split)-1:\n",
    "                split_recipes.append((int)(test_split[len(test_split)-1][:len(test_split[len(test_split)-1])-1])) \n",
    "\n",
    "            elif i>0 & i<len(test_split)-2:\n",
    "                split_recipes.append((test_split[i]))        \n",
    "\n",
    "    return split_recipes\n"
   ]
  },
  {
   "cell_type": "code",
   "execution_count": 84,
   "metadata": {},
   "outputs": [],
   "source": [
    "group_unseen_recipe= np.setdiff1d(sample_recipes, interacted_recipe_list)"
   ]
  },
  {
   "cell_type": "code",
   "execution_count": 24,
   "metadata": {},
   "outputs": [],
   "source": [
    "import itertools\n",
    "from lenskit.algorithms import Recommender\n",
    "from lenskit.algorithms.user_knn import UserUser"
   ]
  },
  {
   "cell_type": "code",
   "execution_count": 57,
   "metadata": {},
   "outputs": [],
   "source": [
    "df_filterd= pd.read_csv(\"filtered_df.csv\")"
   ]
  },
  {
   "cell_type": "code",
   "execution_count": 62,
   "metadata": {},
   "outputs": [],
   "source": [
    "user=df_raw_interaction.groupby(['user_id'])"
   ]
  },
  {
   "cell_type": "code",
   "execution_count": 71,
   "metadata": {},
   "outputs": [],
   "source": [
    "result= df_filterd.sort_values(by= 'user_id')"
   ]
  },
  {
   "cell_type": "code",
   "execution_count": 73,
   "metadata": {},
   "outputs": [],
   "source": [
    "result= result.drop(result.columns[[0,3,5]],axis=1)"
   ]
  },
  {
   "cell_type": "code",
   "execution_count": 78,
   "metadata": {},
   "outputs": [],
   "source": [
    "result.rename(columns = {'user_id':'user', 'recipe_id':'item'}, inplace = True)\n",
    "   "
   ]
  },
  {
   "cell_type": "code",
   "execution_count": null,
   "metadata": {},
   "outputs": [],
   "source": [
    "user_user = UserUser(15, min_nbrs=3)  # Minimum (3) and maximum (15) number of neighbors to consider\n",
    "recsys = Recommender.adapt(user_user)\n",
    "recsys.train(result)\n",
    "group_unseen_df = pd.DataFrame(list(itertools.product(sample_user_group, group_unseen_recipe)), columns=['user', 'item'])\n",
    "group_unseen_df['predicted_rating'] = recsys.predictor\n",
    "display(group_unseen_df)"
   ]
  },
  {
   "cell_type": "code",
   "execution_count": 81,
   "metadata": {},
   "outputs": [
    {
     "data": {
      "text/plain": [
       "[220, 1504, 168, 1487, 499, 2147, 754, 736, 832, 319]"
      ]
     },
     "execution_count": 81,
     "metadata": {},
     "output_type": "execute_result"
    }
   ],
   "source": [
    "sample_user_group"
   ]
  },
  {
   "cell_type": "code",
   "execution_count": null,
   "metadata": {},
   "outputs": [],
   "source": [
    "group_unseen_recipe"
   ]
  },
  {
   "cell_type": "code",
   "execution_count": null,
   "metadata": {},
   "outputs": [],
   "source": []
  }
 ],
 "metadata": {
  "interpreter": {
   "hash": "cf40792dab14543dc27bc60c946d2bf37b56bd1f7c63b3c17141f46241c046c5"
  },
  "kernelspec": {
   "display_name": "Python 3.7.4 64-bit ('base': conda)",
   "name": "python3"
  },
  "language_info": {
   "codemirror_mode": {
    "name": "ipython",
    "version": 3
   },
   "file_extension": ".py",
   "mimetype": "text/x-python",
   "name": "python",
   "nbconvert_exporter": "python",
   "pygments_lexer": "ipython3",
   "version": "3.7.3"
  },
  "orig_nbformat": 4
 },
 "nbformat": 4,
 "nbformat_minor": 2
}
