{
 "cells": [
  {
   "cell_type": "markdown",
   "metadata": {},
   "source": [
    "# Tagsplanation\n",
    "## Loading stuff"
   ]
  },
  {
   "cell_type": "code",
   "execution_count": 11,
   "metadata": {},
   "outputs": [],
   "source": [
    "import pandas as pd\n",
    "import numpy as np\n",
    "import matplotlib as mpl\n",
    "import matplotlib.pyplot as plt\n",
    "import seaborn as sns\n",
    "from nltk.tokenize import sent_tokenize, word_tokenize\n",
    "import gensim\n",
    "from gensim.models import Word2Vec\n",
    "#from sklearn.feature_extraction.text import TfidfVectorizer"
   ]
  },
  {
   "cell_type": "code",
   "execution_count": 4,
   "metadata": {},
   "outputs": [],
   "source": [
    "file_name_filtered = \"filtered_df\"\n",
    "file_name_recipes = \"RAW_recipes\"\n",
    "csv_extension = \".csv\"\n",
    "directory = \"datasets/\" "
   ]
  },
  {
   "cell_type": "code",
   "execution_count": 5,
   "metadata": {},
   "outputs": [],
   "source": [
    "id = 'id'\n",
    "tags = 'tags'\n",
    "tags_norm = 'tags_normalized'\n",
    "FILTERED_COLUMNS = [\"user_id\", \"recipe_id\", \"date\", \"rating\", \"review\"]\n",
    "RECIPE_COLUMNS = [id, tags]"
   ]
  },
  {
   "cell_type": "code",
   "execution_count": 6,
   "metadata": {},
   "outputs": [
    {
     "data": {
      "text/html": [
       "<div>\n",
       "<style scoped>\n",
       "    .dataframe tbody tr th:only-of-type {\n",
       "        vertical-align: middle;\n",
       "    }\n",
       "\n",
       "    .dataframe tbody tr th {\n",
       "        vertical-align: top;\n",
       "    }\n",
       "\n",
       "    .dataframe thead th {\n",
       "        text-align: right;\n",
       "    }\n",
       "</style>\n",
       "<table border=\"1\" class=\"dataframe\">\n",
       "  <thead>\n",
       "    <tr style=\"text-align: right;\">\n",
       "      <th></th>\n",
       "      <th>user_id</th>\n",
       "      <th>recipe_id</th>\n",
       "      <th>date</th>\n",
       "      <th>rating</th>\n",
       "      <th>review</th>\n",
       "    </tr>\n",
       "  </thead>\n",
       "  <tbody>\n",
       "    <tr>\n",
       "      <td>0</td>\n",
       "      <td>57222</td>\n",
       "      <td>85009</td>\n",
       "      <td>2011-10-01</td>\n",
       "      <td>5</td>\n",
       "      <td>Made the cheddar bacon topping, adding a sprin...</td>\n",
       "    </tr>\n",
       "    <tr>\n",
       "      <td>1</td>\n",
       "      <td>124416</td>\n",
       "      <td>120345</td>\n",
       "      <td>2011-08-06</td>\n",
       "      <td>0</td>\n",
       "      <td>Just an observation, so I will not rate.  I fo...</td>\n",
       "    </tr>\n",
       "    <tr>\n",
       "      <td>2</td>\n",
       "      <td>76535</td>\n",
       "      <td>134728</td>\n",
       "      <td>2005-09-02</td>\n",
       "      <td>4</td>\n",
       "      <td>Very good!</td>\n",
       "    </tr>\n",
       "    <tr>\n",
       "      <td>3</td>\n",
       "      <td>255338</td>\n",
       "      <td>134728</td>\n",
       "      <td>2008-04-11</td>\n",
       "      <td>5</td>\n",
       "      <td>First time using liquid smoke in a recipe. Mad...</td>\n",
       "    </tr>\n",
       "    <tr>\n",
       "      <td>4</td>\n",
       "      <td>136726</td>\n",
       "      <td>197160</td>\n",
       "      <td>2006-11-25</td>\n",
       "      <td>5</td>\n",
       "      <td>I used this mix to make meat balls.Very simple...</td>\n",
       "    </tr>\n",
       "  </tbody>\n",
       "</table>\n",
       "</div>"
      ],
      "text/plain": [
       "   user_id  recipe_id        date  rating  \\\n",
       "0    57222      85009  2011-10-01       5   \n",
       "1   124416     120345  2011-08-06       0   \n",
       "2    76535     134728  2005-09-02       4   \n",
       "3   255338     134728  2008-04-11       5   \n",
       "4   136726     197160  2006-11-25       5   \n",
       "\n",
       "                                              review  \n",
       "0  Made the cheddar bacon topping, adding a sprin...  \n",
       "1  Just an observation, so I will not rate.  I fo...  \n",
       "2                                         Very good!  \n",
       "3  First time using liquid smoke in a recipe. Mad...  \n",
       "4  I used this mix to make meat balls.Very simple...  "
      ]
     },
     "execution_count": 6,
     "metadata": {},
     "output_type": "execute_result"
    }
   ],
   "source": [
    "df_filtered = pd.read_csv(directory + file_name_filtered + csv_extension)\n",
    "df_recipe = pd.read_csv(directory + file_name_recipes + csv_extension)\n",
    "df_filtered = df_filtered[FILTERED_COLUMNS]\n",
    "df_recipe = df_recipe[RECIPE_COLUMNS]\n",
    "df_filtered.head()"
   ]
  },
  {
   "cell_type": "code",
   "execution_count": 7,
   "metadata": {},
   "outputs": [
    {
     "data": {
      "text/html": [
       "<div>\n",
       "<style scoped>\n",
       "    .dataframe tbody tr th:only-of-type {\n",
       "        vertical-align: middle;\n",
       "    }\n",
       "\n",
       "    .dataframe tbody tr th {\n",
       "        vertical-align: top;\n",
       "    }\n",
       "\n",
       "    .dataframe thead th {\n",
       "        text-align: right;\n",
       "    }\n",
       "</style>\n",
       "<table border=\"1\" class=\"dataframe\">\n",
       "  <thead>\n",
       "    <tr style=\"text-align: right;\">\n",
       "      <th></th>\n",
       "      <th>id</th>\n",
       "      <th>tags</th>\n",
       "    </tr>\n",
       "  </thead>\n",
       "  <tbody>\n",
       "    <tr>\n",
       "      <td>0</td>\n",
       "      <td>137739</td>\n",
       "      <td>['60-minutes-or-less', 'time-to-make', 'course...</td>\n",
       "    </tr>\n",
       "    <tr>\n",
       "      <td>1</td>\n",
       "      <td>31490</td>\n",
       "      <td>['30-minutes-or-less', 'time-to-make', 'course...</td>\n",
       "    </tr>\n",
       "    <tr>\n",
       "      <td>2</td>\n",
       "      <td>112140</td>\n",
       "      <td>['time-to-make', 'course', 'preparation', 'mai...</td>\n",
       "    </tr>\n",
       "    <tr>\n",
       "      <td>3</td>\n",
       "      <td>59389</td>\n",
       "      <td>['60-minutes-or-less', 'time-to-make', 'course...</td>\n",
       "    </tr>\n",
       "    <tr>\n",
       "      <td>4</td>\n",
       "      <td>44061</td>\n",
       "      <td>['weeknight', 'time-to-make', 'course', 'main-...</td>\n",
       "    </tr>\n",
       "  </tbody>\n",
       "</table>\n",
       "</div>"
      ],
      "text/plain": [
       "       id                                               tags\n",
       "0  137739  ['60-minutes-or-less', 'time-to-make', 'course...\n",
       "1   31490  ['30-minutes-or-less', 'time-to-make', 'course...\n",
       "2  112140  ['time-to-make', 'course', 'preparation', 'mai...\n",
       "3   59389  ['60-minutes-or-less', 'time-to-make', 'course...\n",
       "4   44061  ['weeknight', 'time-to-make', 'course', 'main-..."
      ]
     },
     "execution_count": 7,
     "metadata": {},
     "output_type": "execute_result"
    }
   ],
   "source": [
    "df_recipe.head()"
   ]
  },
  {
   "cell_type": "markdown",
   "metadata": {},
   "source": [
    "## Fixing tags data type and structure"
   ]
  },
  {
   "cell_type": "code",
   "execution_count": 8,
   "metadata": {},
   "outputs": [
    {
     "name": "stderr",
     "output_type": "stream",
     "text": [
      "C:\\Users\\vanku\\Anaconda3\\lib\\site-packages\\ipykernel_launcher.py:13: FutureWarning: set_value is deprecated and will be removed in a future release. Please use .at[] or .iat[] accessors instead\n",
      "  del sys.path[0]\n"
     ]
    }
   ],
   "source": [
    "forbidden_characters = [',', '[', ']', ' ', '', '\\'']\n",
    "all_tags = []\n",
    "df_recipe[tags_norm] = ''\n",
    "for id, value in df_recipe.iterrows():\n",
    "    curr_tag = value[tags]\n",
    "    curr_word = str()\n",
    "    for curr_char in curr_tag:\n",
    "        if curr_char not in forbidden_characters:\n",
    "            curr_word+=curr_char\n",
    "        else:\n",
    "            if curr_word != '':\n",
    "                all_tags.append(curr_word.lower())\n",
    "                df_recipe.set_value(id, tags_norm, all_tags)\n",
    "                curr_word = str()\n",
    "    all_tags = []"
   ]
  },
  {
   "cell_type": "code",
   "execution_count": 9,
   "metadata": {},
   "outputs": [
    {
     "data": {
      "text/html": [
       "<div>\n",
       "<style scoped>\n",
       "    .dataframe tbody tr th:only-of-type {\n",
       "        vertical-align: middle;\n",
       "    }\n",
       "\n",
       "    .dataframe tbody tr th {\n",
       "        vertical-align: top;\n",
       "    }\n",
       "\n",
       "    .dataframe thead th {\n",
       "        text-align: right;\n",
       "    }\n",
       "</style>\n",
       "<table border=\"1\" class=\"dataframe\">\n",
       "  <thead>\n",
       "    <tr style=\"text-align: right;\">\n",
       "      <th></th>\n",
       "      <th>id</th>\n",
       "      <th>tags</th>\n",
       "      <th>tags_normalized</th>\n",
       "    </tr>\n",
       "  </thead>\n",
       "  <tbody>\n",
       "    <tr>\n",
       "      <td>0</td>\n",
       "      <td>137739</td>\n",
       "      <td>['60-minutes-or-less', 'time-to-make', 'course...</td>\n",
       "      <td>[60-minutes-or-less, time-to-make, course, mai...</td>\n",
       "    </tr>\n",
       "    <tr>\n",
       "      <td>1</td>\n",
       "      <td>31490</td>\n",
       "      <td>['30-minutes-or-less', 'time-to-make', 'course...</td>\n",
       "      <td>[30-minutes-or-less, time-to-make, course, mai...</td>\n",
       "    </tr>\n",
       "    <tr>\n",
       "      <td>2</td>\n",
       "      <td>112140</td>\n",
       "      <td>['time-to-make', 'course', 'preparation', 'mai...</td>\n",
       "      <td>[time-to-make, course, preparation, main-dish,...</td>\n",
       "    </tr>\n",
       "    <tr>\n",
       "      <td>3</td>\n",
       "      <td>59389</td>\n",
       "      <td>['60-minutes-or-less', 'time-to-make', 'course...</td>\n",
       "      <td>[60-minutes-or-less, time-to-make, course, mai...</td>\n",
       "    </tr>\n",
       "    <tr>\n",
       "      <td>4</td>\n",
       "      <td>44061</td>\n",
       "      <td>['weeknight', 'time-to-make', 'course', 'main-...</td>\n",
       "      <td>[weeknight, time-to-make, course, main-ingredi...</td>\n",
       "    </tr>\n",
       "  </tbody>\n",
       "</table>\n",
       "</div>"
      ],
      "text/plain": [
       "       id                                               tags  \\\n",
       "0  137739  ['60-minutes-or-less', 'time-to-make', 'course...   \n",
       "1   31490  ['30-minutes-or-less', 'time-to-make', 'course...   \n",
       "2  112140  ['time-to-make', 'course', 'preparation', 'mai...   \n",
       "3   59389  ['60-minutes-or-less', 'time-to-make', 'course...   \n",
       "4   44061  ['weeknight', 'time-to-make', 'course', 'main-...   \n",
       "\n",
       "                                     tags_normalized  \n",
       "0  [60-minutes-or-less, time-to-make, course, mai...  \n",
       "1  [30-minutes-or-less, time-to-make, course, mai...  \n",
       "2  [time-to-make, course, preparation, main-dish,...  \n",
       "3  [60-minutes-or-less, time-to-make, course, mai...  \n",
       "4  [weeknight, time-to-make, course, main-ingredi...  "
      ]
     },
     "execution_count": 9,
     "metadata": {},
     "output_type": "execute_result"
    }
   ],
   "source": [
    "df_recipe.head()"
   ]
  },
  {
   "cell_type": "markdown",
   "metadata": {},
   "source": [
    "## Word2vec"
   ]
  },
  {
   "cell_type": "code",
   "execution_count": 20,
   "metadata": {},
   "outputs": [],
   "source": [
    "model1 = gensim.models.Word2Vec(df_recipe.tags_normalized, min_count = 1)"
   ]
  },
  {
   "cell_type": "code",
   "execution_count": 19,
   "metadata": {},
   "outputs": [
    {
     "data": {
      "text/plain": [
       "[('60-minutes-or-less', 0.8805419206619263),\n",
       " ('30-minutes-or-less', 0.7964515686035156),\n",
       " ('lactose', 0.7469867467880249),\n",
       " ('time-to-make', 0.745720624923706),\n",
       " ('course', 0.7019907236099243),\n",
       " ('main-ingredient', 0.6506094336509705),\n",
       " ('15-minutes-or-less', 0.6189927458763123),\n",
       " ('cuisine', 0.5846561193466187),\n",
       " ('preparation', 0.5398974418640137),\n",
       " ('celebrity', 0.5175716876983643)]"
      ]
     },
     "execution_count": 19,
     "metadata": {},
     "output_type": "execute_result"
    }
   ],
   "source": [
    "model1.wv.most_similar('weeknight')"
   ]
  },
  {
   "cell_type": "code",
   "execution_count": 22,
   "metadata": {},
   "outputs": [
    {
     "data": {
      "text/plain": [
       "0.49151468"
      ]
     },
     "execution_count": 22,
     "metadata": {},
     "output_type": "execute_result"
    }
   ],
   "source": [
    "model1.wv.similarity('weeknight', 'celebrity')"
   ]
  }
 ],
 "metadata": {
  "interpreter": {
   "hash": "cf40792dab14543dc27bc60c946d2bf37b56bd1f7c63b3c17141f46241c046c5"
  },
  "kernelspec": {
   "display_name": "Python 3.7.4 64-bit ('base': conda)",
   "language": "python",
   "name": "python3"
  },
  "language_info": {
   "codemirror_mode": {
    "name": "ipython",
    "version": 3
   },
   "file_extension": ".py",
   "mimetype": "text/x-python",
   "name": "python",
   "nbconvert_exporter": "python",
   "pygments_lexer": "ipython3",
   "version": "3.7.4"
  },
  "orig_nbformat": 4
 },
 "nbformat": 4,
 "nbformat_minor": 2
}
