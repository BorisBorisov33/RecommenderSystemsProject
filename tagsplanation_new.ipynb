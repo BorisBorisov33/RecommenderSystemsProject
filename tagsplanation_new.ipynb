{
 "cells": [
  {
   "cell_type": "markdown",
   "metadata": {},
   "source": [
    "# Import and loading data"
   ]
  },
  {
   "cell_type": "code",
   "execution_count": 92,
   "metadata": {},
   "outputs": [],
   "source": [
    "import pandas as pd\n",
    "import numpy as np\n",
    "import matplotlib as mpl\n",
    "import matplotlib.pyplot as plt\n",
    "import seaborn as sns\n",
    "from nltk.tokenize import sent_tokenize, word_tokenize\n",
    "from random import randint\n",
    "import random\n",
    "import gensim\n",
    "from gensim.models import Word2Vec"
   ]
  },
  {
   "cell_type": "code",
   "execution_count": 93,
   "metadata": {},
   "outputs": [],
   "source": [
    "file_name_filtered = \"filtered_df\"\n",
    "file_name_recipes = \"RAW_recipes\"\n",
    "csv_extension = \".csv\"\n",
    "directory = \"datasets/\" "
   ]
  },
  {
   "cell_type": "code",
   "execution_count": 94,
   "metadata": {},
   "outputs": [],
   "source": [
    "id = 'id'\n",
    "tags = 'tags'\n",
    "tags_str = 'tags_string'\n",
    "tags_final = 'tags_final'\n",
    "tags_vec = 'tags_vectorized'\n",
    "FILTERED_COLUMNS = [\"user_id\", \"recipe_id\", \"date\", \"rating\", \"review\"]\n",
    "RECIPE_COLUMNS = [\"name\", id, tags]"
   ]
  },
  {
   "cell_type": "code",
   "execution_count": 95,
   "metadata": {},
   "outputs": [],
   "source": [
    "df_filtered = pd.read_csv(directory + file_name_filtered + csv_extension)\n",
    "df_recipe = pd.read_csv(directory + file_name_recipes + csv_extension)\n",
    "df_filtered = df_filtered[FILTERED_COLUMNS]\n",
    "df_recipe = df_recipe[RECIPE_COLUMNS]"
   ]
  },
  {
   "cell_type": "markdown",
   "metadata": {},
   "source": [
    "# Fixing tags datatype and structure"
   ]
  },
  {
   "cell_type": "code",
   "execution_count": 96,
   "metadata": {},
   "outputs": [
    {
     "name": "stderr",
     "output_type": "stream",
     "text": [
      "C:\\Users\\vanku\\Anaconda3\\lib\\site-packages\\ipykernel_launcher.py:15: FutureWarning: set_value is deprecated and will be removed in a future release. Please use .at[] or .iat[] accessors instead\n",
      "  from ipykernel import kernelapp as app\n"
     ]
    }
   ],
   "source": [
    "forbidden_characters = [',', '[', ']', ' ', '', '\\'']\n",
    "all_tags = []\n",
    "df_recipe[tags_str] = ''\n",
    "for id, value in df_recipe.iterrows():\n",
    "    curr_tag = value[tags]\n",
    "    curr_word = str()\n",
    "    for curr_char in curr_tag:\n",
    "        if curr_char not in forbidden_characters:\n",
    "            curr_word+=curr_char\n",
    "        else:\n",
    "            if curr_word != '':\n",
    "                all_tags.append(curr_word.lower())\n",
    "                # this method might create an error if you have a different\n",
    "                # version of pandas than me:\n",
    "                df_recipe.set_value(id, tags_str, all_tags)\n",
    "                curr_word = str()\n",
    "    all_tags = []"
   ]
  },
  {
   "cell_type": "markdown",
   "metadata": {},
   "source": [
    "# Remove most 15% frequent and less 15% frequent tags"
   ]
  },
  {
   "cell_type": "code",
   "execution_count": 97,
   "metadata": {},
   "outputs": [
    {
     "data": {
      "text/html": [
       "<div>\n",
       "<style scoped>\n",
       "    .dataframe tbody tr th:only-of-type {\n",
       "        vertical-align: middle;\n",
       "    }\n",
       "\n",
       "    .dataframe tbody tr th {\n",
       "        vertical-align: top;\n",
       "    }\n",
       "\n",
       "    .dataframe thead th {\n",
       "        text-align: right;\n",
       "    }\n",
       "</style>\n",
       "<table border=\"1\" class=\"dataframe\">\n",
       "  <thead>\n",
       "    <tr style=\"text-align: right;\">\n",
       "      <th></th>\n",
       "      <th>name</th>\n",
       "      <th>id</th>\n",
       "      <th>tags</th>\n",
       "      <th>tags_string</th>\n",
       "    </tr>\n",
       "  </thead>\n",
       "  <tbody>\n",
       "    <tr>\n",
       "      <td>0</td>\n",
       "      <td>arriba   baked winter squash mexican style</td>\n",
       "      <td>137739</td>\n",
       "      <td>['60-minutes-or-less', 'time-to-make', 'course...</td>\n",
       "      <td>[60-minutes-or-less, time-to-make, course, mai...</td>\n",
       "    </tr>\n",
       "    <tr>\n",
       "      <td>1</td>\n",
       "      <td>a bit different  breakfast pizza</td>\n",
       "      <td>31490</td>\n",
       "      <td>['30-minutes-or-less', 'time-to-make', 'course...</td>\n",
       "      <td>[30-minutes-or-less, time-to-make, course, mai...</td>\n",
       "    </tr>\n",
       "    <tr>\n",
       "      <td>2</td>\n",
       "      <td>all in the kitchen  chili</td>\n",
       "      <td>112140</td>\n",
       "      <td>['time-to-make', 'course', 'preparation', 'mai...</td>\n",
       "      <td>[time-to-make, course, preparation, main-dish,...</td>\n",
       "    </tr>\n",
       "    <tr>\n",
       "      <td>3</td>\n",
       "      <td>alouette  potatoes</td>\n",
       "      <td>59389</td>\n",
       "      <td>['60-minutes-or-less', 'time-to-make', 'course...</td>\n",
       "      <td>[60-minutes-or-less, time-to-make, course, mai...</td>\n",
       "    </tr>\n",
       "    <tr>\n",
       "      <td>4</td>\n",
       "      <td>amish  tomato ketchup  for canning</td>\n",
       "      <td>44061</td>\n",
       "      <td>['weeknight', 'time-to-make', 'course', 'main-...</td>\n",
       "      <td>[weeknight, time-to-make, course, main-ingredi...</td>\n",
       "    </tr>\n",
       "  </tbody>\n",
       "</table>\n",
       "</div>"
      ],
      "text/plain": [
       "                                         name      id  \\\n",
       "0  arriba   baked winter squash mexican style  137739   \n",
       "1            a bit different  breakfast pizza   31490   \n",
       "2                   all in the kitchen  chili  112140   \n",
       "3                          alouette  potatoes   59389   \n",
       "4          amish  tomato ketchup  for canning   44061   \n",
       "\n",
       "                                                tags  \\\n",
       "0  ['60-minutes-or-less', 'time-to-make', 'course...   \n",
       "1  ['30-minutes-or-less', 'time-to-make', 'course...   \n",
       "2  ['time-to-make', 'course', 'preparation', 'mai...   \n",
       "3  ['60-minutes-or-less', 'time-to-make', 'course...   \n",
       "4  ['weeknight', 'time-to-make', 'course', 'main-...   \n",
       "\n",
       "                                         tags_string  \n",
       "0  [60-minutes-or-less, time-to-make, course, mai...  \n",
       "1  [30-minutes-or-less, time-to-make, course, mai...  \n",
       "2  [time-to-make, course, preparation, main-dish,...  \n",
       "3  [60-minutes-or-less, time-to-make, course, mai...  \n",
       "4  [weeknight, time-to-make, course, main-ingredi...  "
      ]
     },
     "execution_count": 97,
     "metadata": {},
     "output_type": "execute_result"
    }
   ],
   "source": [
    "df_recipe.head()"
   ]
  },
  {
   "cell_type": "code",
   "execution_count": 98,
   "metadata": {},
   "outputs": [],
   "source": [
    "tag_frequency = {}\n",
    "for index, value in df_recipe.iterrows():\n",
    "    for tag in value[tags_str]:\n",
    "        if tag in tag_frequency:\n",
    "            tag_frequency[tag]+=1\n",
    "        else:\n",
    "            tag_frequency[tag]=1\n",
    "# remove tags that appear less than 5 times:\n",
    "tag_filter1 = {key:val for key, val in tag_frequency.items() if (val >= 5)}\n",
    "tag_value = list(tag_filter1.values())\n",
    "tag_value = sorted(tag_value, reverse=True)\n",
    "#remove the top 15% most frequent tags:\n",
    "threshold = tag_value[int(len(tag_frequency) * 0.15)]\n",
    "tag_filter2 = {key:val for key, val in tag_filter1.items() if (val <= threshold)}   #left with 413 tags"
   ]
  },
  {
   "cell_type": "code",
   "execution_count": 99,
   "metadata": {},
   "outputs": [
    {
     "name": "stderr",
     "output_type": "stream",
     "text": [
      "C:\\Users\\vanku\\Anaconda3\\lib\\site-packages\\ipykernel_launcher.py:8: FutureWarning: set_value is deprecated and will be removed in a future release. Please use .at[] or .iat[] accessors instead\n",
      "  \n"
     ]
    },
    {
     "data": {
      "text/html": [
       "<div>\n",
       "<style scoped>\n",
       "    .dataframe tbody tr th:only-of-type {\n",
       "        vertical-align: middle;\n",
       "    }\n",
       "\n",
       "    .dataframe tbody tr th {\n",
       "        vertical-align: top;\n",
       "    }\n",
       "\n",
       "    .dataframe thead th {\n",
       "        text-align: right;\n",
       "    }\n",
       "</style>\n",
       "<table border=\"1\" class=\"dataframe\">\n",
       "  <thead>\n",
       "    <tr style=\"text-align: right;\">\n",
       "      <th></th>\n",
       "      <th>name</th>\n",
       "      <th>id</th>\n",
       "      <th>tags</th>\n",
       "      <th>tags_string</th>\n",
       "      <th>tags_final</th>\n",
       "    </tr>\n",
       "  </thead>\n",
       "  <tbody>\n",
       "    <tr>\n",
       "      <td>0</td>\n",
       "      <td>arriba   baked winter squash mexican style</td>\n",
       "      <td>137739</td>\n",
       "      <td>['60-minutes-or-less', 'time-to-make', 'course...</td>\n",
       "      <td>[60-minutes-or-less, time-to-make, course, mai...</td>\n",
       "      <td>[mexican, fall, winter, christmas, squash]</td>\n",
       "    </tr>\n",
       "    <tr>\n",
       "      <td>1</td>\n",
       "      <td>a bit different  breakfast pizza</td>\n",
       "      <td>31490</td>\n",
       "      <td>['30-minutes-or-less', 'time-to-make', 'course...</td>\n",
       "      <td>[30-minutes-or-less, time-to-make, course, mai...</td>\n",
       "      <td>[pizza, northeastern-united-states]</td>\n",
       "    </tr>\n",
       "    <tr>\n",
       "      <td>2</td>\n",
       "      <td>all in the kitchen  chili</td>\n",
       "      <td>112140</td>\n",
       "      <td>['time-to-make', 'course', 'preparation', 'mai...</td>\n",
       "      <td>[time-to-make, course, preparation, main-dish,...</td>\n",
       "      <td>[chili, crock-pot-slow-cooker]</td>\n",
       "    </tr>\n",
       "    <tr>\n",
       "      <td>3</td>\n",
       "      <td>alouette  potatoes</td>\n",
       "      <td>59389</td>\n",
       "      <td>['60-minutes-or-less', 'time-to-make', 'course...</td>\n",
       "      <td>[60-minutes-or-less, time-to-make, course, mai...</td>\n",
       "      <td>[easter, christmas, new-years, thanksgiving, i...</td>\n",
       "    </tr>\n",
       "    <tr>\n",
       "      <td>4</td>\n",
       "      <td>amish  tomato ketchup  for canning</td>\n",
       "      <td>44061</td>\n",
       "      <td>['weeknight', 'time-to-make', 'course', 'main-...</td>\n",
       "      <td>[weeknight, time-to-make, course, main-ingredi...</td>\n",
       "      <td>[canning, heirloom-historical, amish-mennonite...</td>\n",
       "    </tr>\n",
       "  </tbody>\n",
       "</table>\n",
       "</div>"
      ],
      "text/plain": [
       "                                         name      id  \\\n",
       "0  arriba   baked winter squash mexican style  137739   \n",
       "1            a bit different  breakfast pizza   31490   \n",
       "2                   all in the kitchen  chili  112140   \n",
       "3                          alouette  potatoes   59389   \n",
       "4          amish  tomato ketchup  for canning   44061   \n",
       "\n",
       "                                                tags  \\\n",
       "0  ['60-minutes-or-less', 'time-to-make', 'course...   \n",
       "1  ['30-minutes-or-less', 'time-to-make', 'course...   \n",
       "2  ['time-to-make', 'course', 'preparation', 'mai...   \n",
       "3  ['60-minutes-or-less', 'time-to-make', 'course...   \n",
       "4  ['weeknight', 'time-to-make', 'course', 'main-...   \n",
       "\n",
       "                                         tags_string  \\\n",
       "0  [60-minutes-or-less, time-to-make, course, mai...   \n",
       "1  [30-minutes-or-less, time-to-make, course, mai...   \n",
       "2  [time-to-make, course, preparation, main-dish,...   \n",
       "3  [60-minutes-or-less, time-to-make, course, mai...   \n",
       "4  [weeknight, time-to-make, course, main-ingredi...   \n",
       "\n",
       "                                          tags_final  \n",
       "0         [mexican, fall, winter, christmas, squash]  \n",
       "1                [pizza, northeastern-united-states]  \n",
       "2                     [chili, crock-pot-slow-cooker]  \n",
       "3  [easter, christmas, new-years, thanksgiving, i...  \n",
       "4  [canning, heirloom-historical, amish-mennonite...  "
      ]
     },
     "execution_count": 99,
     "metadata": {},
     "output_type": "execute_result"
    }
   ],
   "source": [
    "#now remove the tags we removed in the tags_normalized\n",
    "new_tag = []\n",
    "df_recipe[tags_final] = ''\n",
    "for index, value in df_recipe.iterrows():\n",
    "    for tag in value[tags_str]:\n",
    "        if tag in tag_filter2:\n",
    "            new_tag.append(tag)\n",
    "    df_recipe.set_value(index, tags_final, new_tag)\n",
    "    new_tag = []\n",
    "df_recipe.head()"
   ]
  },
  {
   "cell_type": "code",
   "execution_count": 100,
   "metadata": {},
   "outputs": [],
   "source": [
    "df_full = pd.merge(df_filtered, df_recipe, left_on='recipe_id', right_on='id', how='left')\n",
    "del df_full[tags_str]\n",
    "del df_full[tags]\n",
    "del df_full['id']"
   ]
  },
  {
   "cell_type": "code",
   "execution_count": 101,
   "metadata": {},
   "outputs": [
    {
     "data": {
      "text/html": [
       "<div>\n",
       "<style scoped>\n",
       "    .dataframe tbody tr th:only-of-type {\n",
       "        vertical-align: middle;\n",
       "    }\n",
       "\n",
       "    .dataframe tbody tr th {\n",
       "        vertical-align: top;\n",
       "    }\n",
       "\n",
       "    .dataframe thead th {\n",
       "        text-align: right;\n",
       "    }\n",
       "</style>\n",
       "<table border=\"1\" class=\"dataframe\">\n",
       "  <thead>\n",
       "    <tr style=\"text-align: right;\">\n",
       "      <th></th>\n",
       "      <th>user_id</th>\n",
       "      <th>recipe_id</th>\n",
       "      <th>date</th>\n",
       "      <th>rating</th>\n",
       "      <th>review</th>\n",
       "      <th>name</th>\n",
       "      <th>tags_final</th>\n",
       "    </tr>\n",
       "  </thead>\n",
       "  <tbody>\n",
       "    <tr>\n",
       "      <td>1</td>\n",
       "      <td>124416</td>\n",
       "      <td>120345</td>\n",
       "      <td>2011-08-06</td>\n",
       "      <td>0</td>\n",
       "      <td>Just an observation, so I will not rate.  I fo...</td>\n",
       "      <td>sugared raspberries</td>\n",
       "      <td>[jams-and-preserves, gifts, northeastern-unite...</td>\n",
       "    </tr>\n",
       "    <tr>\n",
       "      <td>2</td>\n",
       "      <td>76535</td>\n",
       "      <td>134728</td>\n",
       "      <td>2005-09-02</td>\n",
       "      <td>4</td>\n",
       "      <td>Very good!</td>\n",
       "      <td>kfc honey bbq strips</td>\n",
       "      <td>[high-protein]</td>\n",
       "    </tr>\n",
       "    <tr>\n",
       "      <td>3</td>\n",
       "      <td>255338</td>\n",
       "      <td>134728</td>\n",
       "      <td>2008-04-11</td>\n",
       "      <td>5</td>\n",
       "      <td>First time using liquid smoke in a recipe. Mad...</td>\n",
       "      <td>kfc honey bbq strips</td>\n",
       "      <td>[high-protein]</td>\n",
       "    </tr>\n",
       "    <tr>\n",
       "      <td>4</td>\n",
       "      <td>136726</td>\n",
       "      <td>197160</td>\n",
       "      <td>2006-11-25</td>\n",
       "      <td>5</td>\n",
       "      <td>I used this mix to make meat balls.Very simple...</td>\n",
       "      <td>mexican hots</td>\n",
       "      <td>[mexican, high-protein]</td>\n",
       "    </tr>\n",
       "    <tr>\n",
       "      <td>5</td>\n",
       "      <td>900992</td>\n",
       "      <td>225241</td>\n",
       "      <td>2009-02-19</td>\n",
       "      <td>3</td>\n",
       "      <td>The \"cornbread\" on top is bland. I'd us a real...</td>\n",
       "      <td>chicken tamale pie for 2  ww core</td>\n",
       "      <td>[casseroles, southwestern-united-states, tex-m...</td>\n",
       "    </tr>\n",
       "  </tbody>\n",
       "</table>\n",
       "</div>"
      ],
      "text/plain": [
       "   user_id  recipe_id        date  rating  \\\n",
       "1   124416     120345  2011-08-06       0   \n",
       "2    76535     134728  2005-09-02       4   \n",
       "3   255338     134728  2008-04-11       5   \n",
       "4   136726     197160  2006-11-25       5   \n",
       "5   900992     225241  2009-02-19       3   \n",
       "\n",
       "                                              review  \\\n",
       "1  Just an observation, so I will not rate.  I fo...   \n",
       "2                                         Very good!   \n",
       "3  First time using liquid smoke in a recipe. Mad...   \n",
       "4  I used this mix to make meat balls.Very simple...   \n",
       "5  The \"cornbread\" on top is bland. I'd us a real...   \n",
       "\n",
       "                                name  \\\n",
       "1                sugared raspberries   \n",
       "2               kfc honey bbq strips   \n",
       "3               kfc honey bbq strips   \n",
       "4                       mexican hots   \n",
       "5  chicken tamale pie for 2  ww core   \n",
       "\n",
       "                                          tags_final  \n",
       "1  [jams-and-preserves, gifts, northeastern-unite...  \n",
       "2                                     [high-protein]  \n",
       "3                                     [high-protein]  \n",
       "4                            [mexican, high-protein]  \n",
       "5  [casseroles, southwestern-united-states, tex-m...  "
      ]
     },
     "execution_count": 101,
     "metadata": {},
     "output_type": "execute_result"
    }
   ],
   "source": [
    "#remove entries with empty tags:\n",
    "df_full = df_full[df_full[tags_final].map(lambda d: len(d)) > 0]\n",
    "df_full.head()"
   ]
  },
  {
   "cell_type": "markdown",
   "metadata": {},
   "source": [
    "# Suggest recipe with same tag"
   ]
  },
  {
   "cell_type": "code",
   "execution_count": 108,
   "metadata": {},
   "outputs": [
    {
     "data": {
      "text/html": [
       "<div>\n",
       "<style scoped>\n",
       "    .dataframe tbody tr th:only-of-type {\n",
       "        vertical-align: middle;\n",
       "    }\n",
       "\n",
       "    .dataframe tbody tr th {\n",
       "        vertical-align: top;\n",
       "    }\n",
       "\n",
       "    .dataframe thead th {\n",
       "        text-align: right;\n",
       "    }\n",
       "</style>\n",
       "<table border=\"1\" class=\"dataframe\">\n",
       "  <thead>\n",
       "    <tr style=\"text-align: right;\">\n",
       "      <th></th>\n",
       "      <th>user_id</th>\n",
       "      <th>recipe_id</th>\n",
       "      <th>date</th>\n",
       "      <th>rating</th>\n",
       "      <th>review</th>\n",
       "      <th>name</th>\n",
       "      <th>tags_final</th>\n",
       "    </tr>\n",
       "  </thead>\n",
       "  <tbody>\n",
       "    <tr>\n",
       "      <td>960</td>\n",
       "      <td>76535</td>\n",
       "      <td>79378</td>\n",
       "      <td>2006-05-29</td>\n",
       "      <td>5</td>\n",
       "      <td>Frosty and delicious! I added more sugar to mi...</td>\n",
       "      <td>slushy lemonade</td>\n",
       "      <td>[punch, food-processor-blender, independence-d...</td>\n",
       "    </tr>\n",
       "    <tr>\n",
       "      <td>1481</td>\n",
       "      <td>76535</td>\n",
       "      <td>133567</td>\n",
       "      <td>2005-08-22</td>\n",
       "      <td>5</td>\n",
       "      <td>This is delicious.</td>\n",
       "      <td>beef stew with cinnamon</td>\n",
       "      <td>[stews]</td>\n",
       "    </tr>\n",
       "    <tr>\n",
       "      <td>14965</td>\n",
       "      <td>76535</td>\n",
       "      <td>134672</td>\n",
       "      <td>2005-10-31</td>\n",
       "      <td>5</td>\n",
       "      <td>This took a lot of time and concentration on m...</td>\n",
       "      <td>mushroom pie</td>\n",
       "      <td>[scandinavian, finnish, mushrooms]</td>\n",
       "    </tr>\n",
       "    <tr>\n",
       "      <td>18098</td>\n",
       "      <td>76535</td>\n",
       "      <td>325569</td>\n",
       "      <td>2008-09-22</td>\n",
       "      <td>5</td>\n",
       "      <td>This is a must-try. I did a small-batch  just ...</td>\n",
       "      <td>buffet style fluffy oven scrambled eggs for a ...</td>\n",
       "      <td>[very-low-carbs, omelets-and-frittatas, casser...</td>\n",
       "    </tr>\n",
       "    <tr>\n",
       "      <td>18212</td>\n",
       "      <td>76535</td>\n",
       "      <td>183221</td>\n",
       "      <td>2006-09-11</td>\n",
       "      <td>5</td>\n",
       "      <td>I needed a pick me up after a particularly dis...</td>\n",
       "      <td>good every dang time seafood stuffed shells</td>\n",
       "      <td>[pasta-shells]</td>\n",
       "    </tr>\n",
       "  </tbody>\n",
       "</table>\n",
       "</div>"
      ],
      "text/plain": [
       "       user_id  recipe_id        date  rating  \\\n",
       "960      76535      79378  2006-05-29       5   \n",
       "1481     76535     133567  2005-08-22       5   \n",
       "14965    76535     134672  2005-10-31       5   \n",
       "18098    76535     325569  2008-09-22       5   \n",
       "18212    76535     183221  2006-09-11       5   \n",
       "\n",
       "                                                  review  \\\n",
       "960    Frosty and delicious! I added more sugar to mi...   \n",
       "1481                                  This is delicious.   \n",
       "14965  This took a lot of time and concentration on m...   \n",
       "18098  This is a must-try. I did a small-batch  just ...   \n",
       "18212  I needed a pick me up after a particularly dis...   \n",
       "\n",
       "                                                    name  \\\n",
       "960                                      slushy lemonade   \n",
       "1481                             beef stew with cinnamon   \n",
       "14965                                       mushroom pie   \n",
       "18098  buffet style fluffy oven scrambled eggs for a ...   \n",
       "18212        good every dang time seafood stuffed shells   \n",
       "\n",
       "                                              tags_final  \n",
       "960    [punch, food-processor-blender, independence-d...  \n",
       "1481                                             [stews]  \n",
       "14965                 [scandinavian, finnish, mushrooms]  \n",
       "18098  [very-low-carbs, omelets-and-frittatas, casser...  \n",
       "18212                                     [pasta-shells]  "
      ]
     },
     "execution_count": 108,
     "metadata": {},
     "output_type": "execute_result"
    }
   ],
   "source": [
    "#input_userID = 124416\n",
    "input_userID = 76535\n",
    "rating_threshold = 5\n",
    "df_user = df_full[df_full['user_id'] == input_userID]\n",
    "df_user = df_user[df_user['rating'] >= rating_threshold]\n",
    "df_user.head()"
   ]
  },
  {
   "cell_type": "code",
   "execution_count": 109,
   "metadata": {},
   "outputs": [
    {
     "name": "stdout",
     "output_type": "stream",
     "text": [
      "{'novelty': 13, 'southern-united-states': 10, 'christmas': 9, 'copycat': 8, 'sauces': 7, 'fish': 6, 'very-low-carbs': 5, 'turkey': 5, 'microwave': 5, 'served-cold': 5, 'mexican': 5, 'ground-beef': 5, 'picnic': 5}\n"
     ]
    }
   ],
   "source": [
    "tags_user_stats = {}\n",
    "for index, value in df_user.iterrows():\n",
    "    for tags in value[tags_final]:\n",
    "        if tags in tags_user_stats:\n",
    "            tags_user_stats[tags]+=1\n",
    "        else:\n",
    "            tags_user_stats[tags]=1\n",
    "top_tags_user = {}\n",
    "#keep only the top 10% most used tags from this user:\n",
    "for i in range(0, (int(0.1 * len(tags_user_stats)))):\n",
    "    max_key = max(tags_user_stats, key=tags_user_stats.get)\n",
    "    top_tags_user[max_key] = tags_user_stats[max_key]\n",
    "    tags_user_stats.pop(max_key)\n",
    "print(top_tags_user)"
   ]
  },
  {
   "cell_type": "code",
   "execution_count": 110,
   "metadata": {},
   "outputs": [],
   "source": [
    "# selects one tag based on roulette wheel selection\n",
    "def selectOne(tags_dict):\n",
    "    sum_values = sum(tags_dict.values())\n",
    "    random_val = randint(1, sum_values)\n",
    "    keep_track_sum = 0\n",
    "    for i in range(0, len(tags_dict)):\n",
    "        keep_track_sum+=list(top_tags_user.values())[i]\n",
    "        if random_val < keep_track_sum:\n",
    "            return  list(top_tags_user.keys())[i]\n",
    "    tag_selected = ''\n",
    "    return tag_selected"
   ]
  },
  {
   "cell_type": "code",
   "execution_count": 111,
   "metadata": {},
   "outputs": [],
   "source": [
    "def findRecipeWithTag(given_tag):\n",
    "    recipe_id = ''\n",
    "    recipe_name = ''\n",
    "    recipe = {}\n",
    "    for index, value in df_recipe.iterrows():\n",
    "        if given_tag in value[tags_final]:\n",
    "            recipe[value['name']] = value['id']\n",
    "    return recipe"
   ]
  },
  {
   "cell_type": "code",
   "execution_count": 114,
   "metadata": {},
   "outputs": [
    {
     "name": "stdout",
     "output_type": "stream",
     "text": [
      "Because you enjoyed 7 recipes with the tag sauces we believe you will also like anything brandy cream sauce which also has the tag sauces\n"
     ]
    }
   ],
   "source": [
    "tag_sugg = selectOne(top_tags_user)\n",
    "recipe, id_recipe = random.choice(list(findRecipeWithTag(tag_sugg).items()))\n",
    "print('Because you enjoyed', top_tags_user[tag_sugg], 'recipes with the tag', tag_sugg, 'we believe you will also like', recipe, 'which also has the tag', tag_sugg)"
   ]
  },
  {
   "cell_type": "markdown",
   "metadata": {},
   "source": [
    "# Suggest recipe with tags similarity (Word2Vec)"
   ]
  },
  {
   "cell_type": "code",
   "execution_count": 116,
   "metadata": {},
   "outputs": [],
   "source": [
    "model1 = gensim.models.Word2Vec(df_recipe.tags_final, min_count = 1)"
   ]
  },
  {
   "cell_type": "code",
   "execution_count": 125,
   "metadata": {},
   "outputs": [
    {
     "data": {
      "text/plain": [
       "[('garnishes', 0.5152801275253296),\n",
       " ('salad-dressings', 0.4261131286621094),\n",
       " ('dips', 0.4152565002441406),\n",
       " ('marinades-and-rubs', 0.3975967466831207),\n",
       " ('canning', 0.390713632106781),\n",
       " ('jams-and-preserves', 0.3815482556819916),\n",
       " ('spreads', 0.37519463896751404),\n",
       " ('spicy', 0.35800784826278687),\n",
       " ('herb-and-spice-mixes', 0.35016003251075745),\n",
       " ('jellies', 0.3397112488746643)]"
      ]
     },
     "execution_count": 125,
     "metadata": {},
     "output_type": "execute_result"
    }
   ],
   "source": [
    "model1.wv.most_similar(tag_sugg)  #sauces is a good example"
   ]
  },
  {
   "cell_type": "code",
   "execution_count": 131,
   "metadata": {},
   "outputs": [
    {
     "name": "stdout",
     "output_type": "stream",
     "text": [
      "Because you enjoyed 10 recipes with the tag \" southern-united-states \" we believe you will also like \" red beans   rice  pressure cooker \" which has a similar tag: \" creole \"\n"
     ]
    }
   ],
   "source": [
    "tag_sugg = selectOne(top_tags_user)\n",
    "#tag_sugg = \"sauces\"\n",
    "tag_most_similar = model1.wv.most_similar(tag_sugg)[0][0] \n",
    "recipe, id_recipe = random.choice(list(findRecipeWithTag(tag_most_similar).items()))\n",
    "print('Because you enjoyed', top_tags_user[tag_sugg], 'recipes with the tag \\\"', tag_sugg, '\\\" we believe you will also like \\\"', recipe, '\\\" which has a similar tag: \\\"', tag_most_similar, '\\\"')"
   ]
  },
  {
   "cell_type": "markdown",
   "metadata": {},
   "source": [
    "# Two tags suggestion"
   ]
  },
  {
   "cell_type": "code",
   "execution_count": 136,
   "metadata": {},
   "outputs": [],
   "source": [
    "def findRecipeWithTwoTag(given_tag1, given_tag2):\n",
    "    recipe_id = ''\n",
    "    recipe_name = ''\n",
    "    recipe = {}\n",
    "    for index, value in df_recipe.iterrows():\n",
    "        if (given_tag1 in value[tags_final]) and (given_tag2 in value[tags_final]):\n",
    "            recipe[value['name']] = value['id']\n",
    "    return recipe"
   ]
  },
  {
   "cell_type": "code",
   "execution_count": 138,
   "metadata": {},
   "outputs": [
    {
     "name": "stdout",
     "output_type": "stream",
     "text": [
      "Because you enjoyed 6 recipes with the tag \" fish \" we believe you will also like \" smoked trout pate \" which has the tag: \" fish \" and the similar tag: \" trout \"\n"
     ]
    }
   ],
   "source": [
    "tag_sugg = selectOne(top_tags_user)\n",
    "tag_most_similar = model1.wv.most_similar(tag_sugg)[0][0] \n",
    "recipe, id_recipe = random.choice(list(findRecipeWithTwoTag(tag_sugg, tag_most_similar).items()))\n",
    "print('Because you enjoyed', top_tags_user[tag_sugg], 'recipes with the tag \\\"', tag_sugg, '\\\" we believe you will also like \\\"', recipe, '\\\" which has the tag: \\\"', tag_sugg,'\\\" and the similar tag: \\\"', tag_most_similar, '\\\"')"
   ]
  },
  {
   "cell_type": "code",
   "execution_count": null,
   "metadata": {},
   "outputs": [],
   "source": []
  }
 ],
 "metadata": {
  "interpreter": {
   "hash": "cf40792dab14543dc27bc60c946d2bf37b56bd1f7c63b3c17141f46241c046c5"
  },
  "kernelspec": {
   "display_name": "Python 3.7.4 64-bit ('base': conda)",
   "language": "python",
   "name": "python3"
  },
  "language_info": {
   "codemirror_mode": {
    "name": "ipython",
    "version": 3
   },
   "file_extension": ".py",
   "mimetype": "text/x-python",
   "name": "python",
   "nbconvert_exporter": "python",
   "pygments_lexer": "ipython3",
   "version": "3.7.4"
  },
  "orig_nbformat": 4
 },
 "nbformat": 4,
 "nbformat_minor": 2
}
