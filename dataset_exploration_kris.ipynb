{
 "cells": [
  {
   "cell_type": "code",
   "execution_count": 3,
   "metadata": {},
   "outputs": [],
   "source": [
    "import pandas as pd\n",
    "import numpy as np\n",
    "import matplotlib as mpl\n",
    "import matplotlib.pyplot as plt\n",
    "import seaborn as sns"
   ]
  },
  {
   "cell_type": "code",
   "execution_count": 4,
   "metadata": {},
   "outputs": [],
   "source": [
    "file_name_recipe = \"PP_recipes\"\n",
    "file_name_users = \"PP_users\"\n",
    "file_name_raw_interaction = \"RAW_interactions\"\n",
    "file_name_raw_recipes = \"RAW_recipes\"\n",
    "csv_extension = \".csv\"\n",
    "directory = \"datasets/\""
   ]
  },
  {
   "cell_type": "code",
   "execution_count": 5,
   "metadata": {},
   "outputs": [],
   "source": [
    "df_recipe = pd.read_csv(directory + file_name_recipe + csv_extension)\n",
    "df_user = pd.read_csv(directory + file_name_users + csv_extension)\n",
    "df_raw_interaction = pd.read_csv(directory + file_name_raw_interaction + csv_extension)\n",
    "df_raw_recipes = pd.read_csv(directory + file_name_raw_recipes + csv_extension)"
   ]
  },
  {
   "cell_type": "code",
   "execution_count": 6,
   "metadata": {},
   "outputs": [
    {
     "data": {
      "text/html": [
       "<div>\n",
       "<style scoped>\n",
       "    .dataframe tbody tr th:only-of-type {\n",
       "        vertical-align: middle;\n",
       "    }\n",
       "\n",
       "    .dataframe tbody tr th {\n",
       "        vertical-align: top;\n",
       "    }\n",
       "\n",
       "    .dataframe thead th {\n",
       "        text-align: right;\n",
       "    }\n",
       "</style>\n",
       "<table border=\"1\" class=\"dataframe\">\n",
       "  <thead>\n",
       "    <tr style=\"text-align: right;\">\n",
       "      <th></th>\n",
       "      <th>user_id</th>\n",
       "      <th>recipe_id</th>\n",
       "      <th>date</th>\n",
       "      <th>rating</th>\n",
       "      <th>review</th>\n",
       "    </tr>\n",
       "  </thead>\n",
       "  <tbody>\n",
       "    <tr>\n",
       "      <td>0</td>\n",
       "      <td>38094</td>\n",
       "      <td>40893</td>\n",
       "      <td>2003-02-17</td>\n",
       "      <td>4</td>\n",
       "      <td>Great with a salad. Cooked on top of stove for...</td>\n",
       "    </tr>\n",
       "    <tr>\n",
       "      <td>1</td>\n",
       "      <td>1293707</td>\n",
       "      <td>40893</td>\n",
       "      <td>2011-12-21</td>\n",
       "      <td>5</td>\n",
       "      <td>So simple, so delicious! Great for chilly fall...</td>\n",
       "    </tr>\n",
       "    <tr>\n",
       "      <td>2</td>\n",
       "      <td>8937</td>\n",
       "      <td>44394</td>\n",
       "      <td>2002-12-01</td>\n",
       "      <td>4</td>\n",
       "      <td>This worked very well and is EASY.  I used not...</td>\n",
       "    </tr>\n",
       "    <tr>\n",
       "      <td>3</td>\n",
       "      <td>126440</td>\n",
       "      <td>85009</td>\n",
       "      <td>2010-02-27</td>\n",
       "      <td>5</td>\n",
       "      <td>I made the Mexican topping and took it to bunk...</td>\n",
       "    </tr>\n",
       "    <tr>\n",
       "      <td>4</td>\n",
       "      <td>57222</td>\n",
       "      <td>85009</td>\n",
       "      <td>2011-10-01</td>\n",
       "      <td>5</td>\n",
       "      <td>Made the cheddar bacon topping, adding a sprin...</td>\n",
       "    </tr>\n",
       "  </tbody>\n",
       "</table>\n",
       "</div>"
      ],
      "text/plain": [
       "   user_id  recipe_id        date  rating  \\\n",
       "0    38094      40893  2003-02-17       4   \n",
       "1  1293707      40893  2011-12-21       5   \n",
       "2     8937      44394  2002-12-01       4   \n",
       "3   126440      85009  2010-02-27       5   \n",
       "4    57222      85009  2011-10-01       5   \n",
       "\n",
       "                                              review  \n",
       "0  Great with a salad. Cooked on top of stove for...  \n",
       "1  So simple, so delicious! Great for chilly fall...  \n",
       "2  This worked very well and is EASY.  I used not...  \n",
       "3  I made the Mexican topping and took it to bunk...  \n",
       "4  Made the cheddar bacon topping, adding a sprin...  "
      ]
     },
     "execution_count": 6,
     "metadata": {},
     "output_type": "execute_result"
    }
   ],
   "source": [
    "df_raw_interaction.head()"
   ]
  },
  {
   "cell_type": "code",
   "execution_count": 7,
   "metadata": {},
   "outputs": [
    {
     "name": "stdout",
     "output_type": "stream",
     "text": [
      "1132367\n",
      "203301\n"
     ]
    }
   ],
   "source": [
    "print(len(df_raw_interaction))\n",
    "nbr_review = df_raw_interaction['user_id'].value_counts()\n",
    "nbr_recipe = df_raw_interaction['recipe_id'].value_counts()\n",
    "user_to_keep = []\n",
    "recipe_to_keep = []\n",
    "for user, review in nbr_review.iteritems():\n",
    "    if review>100:\n",
    "        user_to_keep.append(user)\n",
    "\n",
    "for recipe, review in nbr_recipe.iteritems():\n",
    "    if review>10:\n",
    "        recipe_to_keep.append(recipe)\n",
    "\n",
    "df_filtered = df_raw_interaction[(df_raw_interaction['user_id'].isin(user_to_keep)) & (df_raw_interaction['recipe_id'].isin(recipe_to_keep))]\n",
    "print(len(df_filtered))\n",
    "#print(df_filtered['user_id'].value_counts())"
   ]
  },
  {
   "cell_type": "code",
   "execution_count": 8,
   "metadata": {},
   "outputs": [
    {
     "data": {
      "text/plain": [
       "<pandas.core.groupby.generic.DataFrameGroupBy object at 0x000001228B3C5388>"
      ]
     },
     "execution_count": 8,
     "metadata": {},
     "output_type": "execute_result"
    }
   ],
   "source": [
    "df_filtered.groupby('user_id')"
   ]
  },
  {
   "cell_type": "code",
   "execution_count": 9,
   "metadata": {},
   "outputs": [
    {
     "data": {
      "text/html": [
       "<div>\n",
       "<style scoped>\n",
       "    .dataframe tbody tr th:only-of-type {\n",
       "        vertical-align: middle;\n",
       "    }\n",
       "\n",
       "    .dataframe tbody tr th {\n",
       "        vertical-align: top;\n",
       "    }\n",
       "\n",
       "    .dataframe thead th {\n",
       "        text-align: right;\n",
       "    }\n",
       "</style>\n",
       "<table border=\"1\" class=\"dataframe\">\n",
       "  <thead>\n",
       "    <tr style=\"text-align: right;\">\n",
       "      <th></th>\n",
       "      <th>user_id</th>\n",
       "      <th>recipe_id</th>\n",
       "      <th>date</th>\n",
       "      <th>rating</th>\n",
       "      <th>review</th>\n",
       "    </tr>\n",
       "  </thead>\n",
       "  <tbody>\n",
       "    <tr>\n",
       "      <td>31</td>\n",
       "      <td>56680</td>\n",
       "      <td>79222</td>\n",
       "      <td>2006-11-11</td>\n",
       "      <td>5</td>\n",
       "      <td>Oh, This was wonderful!  Had a soup and salad ...</td>\n",
       "    </tr>\n",
       "    <tr>\n",
       "      <td>44</td>\n",
       "      <td>101823</td>\n",
       "      <td>79222</td>\n",
       "      <td>2006-03-21</td>\n",
       "      <td>5</td>\n",
       "      <td>Excellent chowder.  This was the perfect warm-...</td>\n",
       "    </tr>\n",
       "    <tr>\n",
       "      <td>46</td>\n",
       "      <td>446143</td>\n",
       "      <td>79222</td>\n",
       "      <td>2008-02-01</td>\n",
       "      <td>4</td>\n",
       "      <td>Oh, how wonderful!  I doubled the crab, and ad...</td>\n",
       "    </tr>\n",
       "    <tr>\n",
       "      <td>124</td>\n",
       "      <td>53932</td>\n",
       "      <td>36144</td>\n",
       "      <td>2006-07-16</td>\n",
       "      <td>5</td>\n",
       "      <td>I also halved the recipe and not reading it ca...</td>\n",
       "    </tr>\n",
       "    <tr>\n",
       "      <td>125</td>\n",
       "      <td>442988</td>\n",
       "      <td>36144</td>\n",
       "      <td>2007-05-30</td>\n",
       "      <td>3</td>\n",
       "      <td>I'm sorry I couldn't give this a higher rating...</td>\n",
       "    </tr>\n",
       "  </tbody>\n",
       "</table>\n",
       "</div>"
      ],
      "text/plain": [
       "     user_id  recipe_id        date  rating  \\\n",
       "31     56680      79222  2006-11-11       5   \n",
       "44    101823      79222  2006-03-21       5   \n",
       "46    446143      79222  2008-02-01       4   \n",
       "124    53932      36144  2006-07-16       5   \n",
       "125   442988      36144  2007-05-30       3   \n",
       "\n",
       "                                                review  \n",
       "31   Oh, This was wonderful!  Had a soup and salad ...  \n",
       "44   Excellent chowder.  This was the perfect warm-...  \n",
       "46   Oh, how wonderful!  I doubled the crab, and ad...  \n",
       "124  I also halved the recipe and not reading it ca...  \n",
       "125  I'm sorry I couldn't give this a higher rating...  "
      ]
     },
     "execution_count": 9,
     "metadata": {},
     "output_type": "execute_result"
    }
   ],
   "source": [
    "df_filtered.head()"
   ]
  },
  {
   "cell_type": "code",
   "execution_count": 10,
   "metadata": {},
   "outputs": [
    {
     "data": {
      "text/html": [
       "<div>\n",
       "<style scoped>\n",
       "    .dataframe tbody tr th:only-of-type {\n",
       "        vertical-align: middle;\n",
       "    }\n",
       "\n",
       "    .dataframe tbody tr th {\n",
       "        vertical-align: top;\n",
       "    }\n",
       "\n",
       "    .dataframe thead th {\n",
       "        text-align: right;\n",
       "    }\n",
       "</style>\n",
       "<table border=\"1\" class=\"dataframe\">\n",
       "  <thead>\n",
       "    <tr style=\"text-align: right;\">\n",
       "      <th></th>\n",
       "      <th>user_id</th>\n",
       "      <th>recipe_id</th>\n",
       "      <th>date</th>\n",
       "      <th>rating</th>\n",
       "      <th>review</th>\n",
       "    </tr>\n",
       "  </thead>\n",
       "  <tbody>\n",
       "    <tr>\n",
       "      <td>1104945</td>\n",
       "      <td>326039</td>\n",
       "      <td>58823</td>\n",
       "      <td>2008-03-31</td>\n",
       "      <td>5</td>\n",
       "      <td>Another 5-star review!  My partner and I just ...</td>\n",
       "    </tr>\n",
       "    <tr>\n",
       "      <td>819535</td>\n",
       "      <td>425105</td>\n",
       "      <td>261929</td>\n",
       "      <td>2007-12-25</td>\n",
       "      <td>4</td>\n",
       "      <td>I made these great little pizzas for a Christm...</td>\n",
       "    </tr>\n",
       "    <tr>\n",
       "      <td>486515</td>\n",
       "      <td>465829</td>\n",
       "      <td>195199</td>\n",
       "      <td>2009-01-10</td>\n",
       "      <td>5</td>\n",
       "      <td>Yum! Very good and easy to make fudge. I didn'...</td>\n",
       "    </tr>\n",
       "    <tr>\n",
       "      <td>988306</td>\n",
       "      <td>173579</td>\n",
       "      <td>55936</td>\n",
       "      <td>2010-08-13</td>\n",
       "      <td>5</td>\n",
       "      <td>This was one of the tastiest spinach salads th...</td>\n",
       "    </tr>\n",
       "    <tr>\n",
       "      <td>759859</td>\n",
       "      <td>921940</td>\n",
       "      <td>163427</td>\n",
       "      <td>2009-02-03</td>\n",
       "      <td>5</td>\n",
       "      <td>Yum.  Easy, quick and tasty.  I will definitel...</td>\n",
       "    </tr>\n",
       "  </tbody>\n",
       "</table>\n",
       "</div>"
      ],
      "text/plain": [
       "         user_id  recipe_id        date  rating  \\\n",
       "1104945   326039      58823  2008-03-31       5   \n",
       "819535    425105     261929  2007-12-25       4   \n",
       "486515    465829     195199  2009-01-10       5   \n",
       "988306    173579      55936  2010-08-13       5   \n",
       "759859    921940     163427  2009-02-03       5   \n",
       "\n",
       "                                                    review  \n",
       "1104945  Another 5-star review!  My partner and I just ...  \n",
       "819535   I made these great little pizzas for a Christm...  \n",
       "486515   Yum! Very good and easy to make fudge. I didn'...  \n",
       "988306   This was one of the tastiest spinach salads th...  \n",
       "759859   Yum.  Easy, quick and tasty.  I will definitel...  "
      ]
     },
     "execution_count": 10,
     "metadata": {},
     "output_type": "execute_result"
    }
   ],
   "source": [
    "df_plot = df_filtered.sample(n=5, replace=False)\n",
    "df_plot.head()"
   ]
  },
  {
   "cell_type": "code",
   "execution_count": 11,
   "metadata": {},
   "outputs": [
    {
     "data": {
      "text/html": [
       "<div>\n",
       "<style scoped>\n",
       "    .dataframe tbody tr th:only-of-type {\n",
       "        vertical-align: middle;\n",
       "    }\n",
       "\n",
       "    .dataframe tbody tr th {\n",
       "        vertical-align: top;\n",
       "    }\n",
       "\n",
       "    .dataframe thead th {\n",
       "        text-align: right;\n",
       "    }\n",
       "</style>\n",
       "<table border=\"1\" class=\"dataframe\">\n",
       "  <thead>\n",
       "    <tr style=\"text-align: right;\">\n",
       "      <th></th>\n",
       "      <th>name</th>\n",
       "      <th>id</th>\n",
       "      <th>minutes</th>\n",
       "      <th>contributor_id</th>\n",
       "      <th>submitted</th>\n",
       "      <th>tags</th>\n",
       "      <th>nutrition</th>\n",
       "      <th>n_steps</th>\n",
       "      <th>steps</th>\n",
       "      <th>description</th>\n",
       "      <th>ingredients</th>\n",
       "      <th>n_ingredients</th>\n",
       "    </tr>\n",
       "  </thead>\n",
       "  <tbody>\n",
       "    <tr>\n",
       "      <td>0</td>\n",
       "      <td>arriba   baked winter squash mexican style</td>\n",
       "      <td>137739</td>\n",
       "      <td>55</td>\n",
       "      <td>47892</td>\n",
       "      <td>2005-09-16</td>\n",
       "      <td>['60-minutes-or-less', 'time-to-make', 'course...</td>\n",
       "      <td>[51.5, 0.0, 13.0, 0.0, 2.0, 0.0, 4.0]</td>\n",
       "      <td>11</td>\n",
       "      <td>['make a choice and proceed with recipe', 'dep...</td>\n",
       "      <td>autumn is my favorite time of year to cook! th...</td>\n",
       "      <td>['winter squash', 'mexican seasoning', 'mixed ...</td>\n",
       "      <td>7</td>\n",
       "    </tr>\n",
       "    <tr>\n",
       "      <td>1</td>\n",
       "      <td>a bit different  breakfast pizza</td>\n",
       "      <td>31490</td>\n",
       "      <td>30</td>\n",
       "      <td>26278</td>\n",
       "      <td>2002-06-17</td>\n",
       "      <td>['30-minutes-or-less', 'time-to-make', 'course...</td>\n",
       "      <td>[173.4, 18.0, 0.0, 17.0, 22.0, 35.0, 1.0]</td>\n",
       "      <td>9</td>\n",
       "      <td>['preheat oven to 425 degrees f', 'press dough...</td>\n",
       "      <td>this recipe calls for the crust to be prebaked...</td>\n",
       "      <td>['prepared pizza crust', 'sausage patty', 'egg...</td>\n",
       "      <td>6</td>\n",
       "    </tr>\n",
       "    <tr>\n",
       "      <td>2</td>\n",
       "      <td>all in the kitchen  chili</td>\n",
       "      <td>112140</td>\n",
       "      <td>130</td>\n",
       "      <td>196586</td>\n",
       "      <td>2005-02-25</td>\n",
       "      <td>['time-to-make', 'course', 'preparation', 'mai...</td>\n",
       "      <td>[269.8, 22.0, 32.0, 48.0, 39.0, 27.0, 5.0]</td>\n",
       "      <td>6</td>\n",
       "      <td>['brown ground beef in large pot', 'add choppe...</td>\n",
       "      <td>this modified version of 'mom's' chili was a h...</td>\n",
       "      <td>['ground beef', 'yellow onions', 'diced tomato...</td>\n",
       "      <td>13</td>\n",
       "    </tr>\n",
       "    <tr>\n",
       "      <td>3</td>\n",
       "      <td>alouette  potatoes</td>\n",
       "      <td>59389</td>\n",
       "      <td>45</td>\n",
       "      <td>68585</td>\n",
       "      <td>2003-04-14</td>\n",
       "      <td>['60-minutes-or-less', 'time-to-make', 'course...</td>\n",
       "      <td>[368.1, 17.0, 10.0, 2.0, 14.0, 8.0, 20.0]</td>\n",
       "      <td>11</td>\n",
       "      <td>['place potatoes in a large pot of lightly sal...</td>\n",
       "      <td>this is a super easy, great tasting, make ahea...</td>\n",
       "      <td>['spreadable cheese with garlic and herbs', 'n...</td>\n",
       "      <td>11</td>\n",
       "    </tr>\n",
       "    <tr>\n",
       "      <td>4</td>\n",
       "      <td>amish  tomato ketchup  for canning</td>\n",
       "      <td>44061</td>\n",
       "      <td>190</td>\n",
       "      <td>41706</td>\n",
       "      <td>2002-10-25</td>\n",
       "      <td>['weeknight', 'time-to-make', 'course', 'main-...</td>\n",
       "      <td>[352.9, 1.0, 337.0, 23.0, 3.0, 0.0, 28.0]</td>\n",
       "      <td>5</td>\n",
       "      <td>['mix all ingredients&amp; boil for 2 1 / 2 hours ...</td>\n",
       "      <td>my dh's amish mother raised him on this recipe...</td>\n",
       "      <td>['tomato juice', 'apple cider vinegar', 'sugar...</td>\n",
       "      <td>8</td>\n",
       "    </tr>\n",
       "  </tbody>\n",
       "</table>\n",
       "</div>"
      ],
      "text/plain": [
       "                                         name      id  minutes  \\\n",
       "0  arriba   baked winter squash mexican style  137739       55   \n",
       "1            a bit different  breakfast pizza   31490       30   \n",
       "2                   all in the kitchen  chili  112140      130   \n",
       "3                          alouette  potatoes   59389       45   \n",
       "4          amish  tomato ketchup  for canning   44061      190   \n",
       "\n",
       "   contributor_id   submitted  \\\n",
       "0           47892  2005-09-16   \n",
       "1           26278  2002-06-17   \n",
       "2          196586  2005-02-25   \n",
       "3           68585  2003-04-14   \n",
       "4           41706  2002-10-25   \n",
       "\n",
       "                                                tags  \\\n",
       "0  ['60-minutes-or-less', 'time-to-make', 'course...   \n",
       "1  ['30-minutes-or-less', 'time-to-make', 'course...   \n",
       "2  ['time-to-make', 'course', 'preparation', 'mai...   \n",
       "3  ['60-minutes-or-less', 'time-to-make', 'course...   \n",
       "4  ['weeknight', 'time-to-make', 'course', 'main-...   \n",
       "\n",
       "                                    nutrition  n_steps  \\\n",
       "0       [51.5, 0.0, 13.0, 0.0, 2.0, 0.0, 4.0]       11   \n",
       "1   [173.4, 18.0, 0.0, 17.0, 22.0, 35.0, 1.0]        9   \n",
       "2  [269.8, 22.0, 32.0, 48.0, 39.0, 27.0, 5.0]        6   \n",
       "3   [368.1, 17.0, 10.0, 2.0, 14.0, 8.0, 20.0]       11   \n",
       "4   [352.9, 1.0, 337.0, 23.0, 3.0, 0.0, 28.0]        5   \n",
       "\n",
       "                                               steps  \\\n",
       "0  ['make a choice and proceed with recipe', 'dep...   \n",
       "1  ['preheat oven to 425 degrees f', 'press dough...   \n",
       "2  ['brown ground beef in large pot', 'add choppe...   \n",
       "3  ['place potatoes in a large pot of lightly sal...   \n",
       "4  ['mix all ingredients& boil for 2 1 / 2 hours ...   \n",
       "\n",
       "                                         description  \\\n",
       "0  autumn is my favorite time of year to cook! th...   \n",
       "1  this recipe calls for the crust to be prebaked...   \n",
       "2  this modified version of 'mom's' chili was a h...   \n",
       "3  this is a super easy, great tasting, make ahea...   \n",
       "4  my dh's amish mother raised him on this recipe...   \n",
       "\n",
       "                                         ingredients  n_ingredients  \n",
       "0  ['winter squash', 'mexican seasoning', 'mixed ...              7  \n",
       "1  ['prepared pizza crust', 'sausage patty', 'egg...              6  \n",
       "2  ['ground beef', 'yellow onions', 'diced tomato...             13  \n",
       "3  ['spreadable cheese with garlic and herbs', 'n...             11  \n",
       "4  ['tomato juice', 'apple cider vinegar', 'sugar...              8  "
      ]
     },
     "execution_count": 11,
     "metadata": {},
     "output_type": "execute_result"
    }
   ],
   "source": [
    "df_raw_recipes.head()"
   ]
  },
  {
   "cell_type": "code",
   "execution_count": 12,
   "metadata": {},
   "outputs": [
    {
     "data": {
      "image/png": "[encoded data removed]",
      "text/plain": [
       "<Figure size 432x288 with 1 Axes>"
      ]
     },
     "metadata": {
      "needs_background": "light"
     },
     "output_type": "display_data"
    }
   ],
   "source": [
    "ax = df_plot.plot.bar(x='user_id', y='rating', rot=0)"
   ]
  },
  {
   "cell_type": "code",
   "execution_count": 13,
   "metadata": {},
   "outputs": [
    {
     "data": {
      "text/plain": [
       "count    203301.000000\n",
       "mean          4.672131\n",
       "std           0.817701\n",
       "min           0.000000\n",
       "25%           5.000000\n",
       "50%           5.000000\n",
       "75%           5.000000\n",
       "max           5.000000\n",
       "Name: rating, dtype: float64"
      ]
     },
     "execution_count": 13,
     "metadata": {},
     "output_type": "execute_result"
    }
   ],
   "source": [
    "df_filtered['rating'].describe()"
   ]
  },
  {
   "cell_type": "code",
   "execution_count": 14,
   "metadata": {},
   "outputs": [
    {
     "data": {
      "text/plain": [
       "1368"
      ]
     },
     "execution_count": 14,
     "metadata": {},
     "output_type": "execute_result"
    }
   ],
   "source": [
    "df_filtered['user_id'].nunique()"
   ]
  },
  {
   "cell_type": "code",
   "execution_count": 15,
   "metadata": {},
   "outputs": [
    {
     "name": "stderr",
     "output_type": "stream",
     "text": [
      "*c* argument looks like a single numeric RGB or RGBA sequence, which should be avoided as value-mapping will have precedence in case its length matches with *x* & *y*.  Please use the *color* keyword-argument or provide a 2-D array with a single row if you intend to specify the same RGB or RGBA value for all points.\n"
     ]
    },
    {
     "data": {
      "image/png": "[encoded data removed]",
      "text/plain": [
       "<Figure size 432x288 with 1 Axes>"
      ]
     },
     "metadata": {},
     "output_type": "display_data"
    }
   ],
   "source": [
    "sns.set(style='darkgrid')\n",
    "ax = sns.boxenplot(x = df_filtered['rating'])\n",
    "ax.set_xticks(np.arange(0, 5, 1))\n",
    "ax.set_xlabel('Ratings')\n",
    "plt.show()"
   ]
  },
  {
   "cell_type": "code",
   "execution_count": 16,
   "metadata": {},
   "outputs": [
    {
     "data": {
      "text/plain": [
       "pandas.core.series.Series"
      ]
     },
     "execution_count": 16,
     "metadata": {},
     "output_type": "execute_result"
    }
   ],
   "source": [
    "tags_arr = df_raw_recipes['tags']\n",
    "type(tags_arr)"
   ]
  },
  {
   "cell_type": "code",
   "execution_count": 17,
   "metadata": {},
   "outputs": [],
   "source": [
    "all_tags = df_raw_recipes.tags.str.split(\",\", expand=True)"
   ]
  },
  {
   "cell_type": "markdown",
   "metadata": {},
   "source": [
    "## Tag analysis"
   ]
  },
  {
   "cell_type": "code",
   "execution_count": 40,
   "metadata": {},
   "outputs": [],
   "source": [
    "forbidden_characters = [',', '[', ']', ' ', '', '\\'']\n",
    "all_tags = []\n",
    "for id, value in df_raw_recipes.iterrows():\n",
    "    curr_tag = value['tags']\n",
    "    curr_word = str()\n",
    "    for curr_char in curr_tag:\n",
    "        if curr_char not in forbidden_characters:\n",
    "            curr_word+=curr_char\n",
    "        else:\n",
    "            if curr_word != '':\n",
    "                all_tags.append(curr_word)\n",
    "                curr_word = str()"
   ]
  },
  {
   "cell_type": "code",
   "execution_count": 41,
   "metadata": {},
   "outputs": [],
   "source": [
    "tag_tf = {}\n",
    "for tag in all_tags:\n",
    "    if tag in tag_tf:\n",
    "        tag_tf[tag]+=1\n",
    "    else:\n",
    "        tag_tf[tag] = 0"
   ]
  },
  {
   "cell_type": "code",
   "execution_count": 72,
   "metadata": {},
   "outputs": [
    {
     "data": {
      "text/plain": [
       "126061"
      ]
     },
     "execution_count": 72,
     "metadata": {},
     "output_type": "execute_result"
    }
   ],
   "source": [
    "tag_tf[sorted(tag_tf, key=tag_tf.get, reverse=True)[5]]    #Outputs most frequent tags"
   ]
  },
  {
   "cell_type": "code",
   "execution_count": 81,
   "metadata": {},
   "outputs": [
    {
     "data": {
      "text/plain": [
       "{'mexican': 6693,\n",
       " 'fall': 7753,\n",
       " 'winter': 7653,\n",
       " 'christmas': 8144,\n",
       " 'squash': 3695,\n",
       " 'crock-pot-slow-cooker': 6607,\n",
       " 'thanksgiving': 4356,\n",
       " 'heirloom-historical': 4574,\n",
       " 'apples': 4942,\n",
       " 'served-cold': 7557,\n",
       " 'canadian': 4571,\n",
       " 'south-west-pacific': 3933,\n",
       " 'spicy': 8224,\n",
       " 'novelty': 4631,\n",
       " 'pies-and-tarts': 4765,\n",
       " 'snacks': 7158,\n",
       " 'no-cook': 6193,\n",
       " 'refrigerator': 4832,\n",
       " 'pies': 3209,\n",
       " 'chocolate': 9388,\n",
       " 'oamc-freezer-make-ahead': 4231,\n",
       " 'quick-breads': 5651,\n",
       " 'tropical-fruit': 5334,\n",
       " 'berries': 5830,\n",
       " 'beans': 9532,\n",
       " 'greens': 4037,\n",
       " 'southwestern-united-states': 3535,\n",
       " 'lactose': 4104,\n",
       " 'spring': 4071,\n",
       " 'food-processor-blender': 4843,\n",
       " 'small-appliance': 8521,\n",
       " 'high-calcium': 4906,\n",
       " 'very-low-carbs': 9200,\n",
       " 'sauces': 5555,\n",
       " 'eggs': 8576,\n",
       " 'peppers': 3179,\n",
       " 'gluten-free': 5742,\n",
       " 'grilling': 4781,\n",
       " 'picnic': 7801,\n",
       " 'bar-cookies': 3384,\n",
       " 'gifts': 6922,\n",
       " 'casseroles': 6452,\n",
       " 'ground-beef': 8089,\n",
       " 'toddler-friendly': 4446,\n",
       " 'sandwiches': 5831,\n",
       " 'cakes': 9652,\n",
       " 'nuts': 7043,\n",
       " 'yeast': 3127,\n",
       " 'italian': 7409,\n",
       " 'romantic': 5178,\n",
       " 'chicken-breasts': 8146,\n",
       " 'diabetic': 6457,\n",
       " 'dips': 4726,\n",
       " 'barbecue': 4115,\n",
       " 'finger-food': 6457,\n",
       " 'grains': 5996,\n",
       " 'kosher': 4445,\n",
       " 'high-protein': 7208,\n",
       " 'mushrooms': 3304,\n",
       " 'fish': 7461,\n",
       " 'saltwater-fish': 5197,\n",
       " 'southern-united-states': 7113,\n",
       " 'tomatoes': 5698,\n",
       " 'cocktails': 4309,\n",
       " 'onions': 5299,\n",
       " 'drop-cookies': 3010,\n",
       " 'shrimp': 4265,\n",
       " 'shellfish': 6947,\n",
       " 'egg-free': 5063,\n",
       " 'brown-bag': 3169,\n",
       " 'rice': 6012,\n",
       " 'citrus': 4057}"
      ]
     },
     "execution_count": 81,
     "metadata": {},
     "output_type": "execute_result"
    }
   ],
   "source": [
    "#tag_top_10 = {key:val for key, val in tag_tf.items() if ((val >= 3) or (val <= 1000000))}\n",
    "tag_top_10 = {key:val for key, val in tag_tf.items() if ((val >= 3000) and (val <= 10000))}\n",
    "#tag_top_10.pop('beans-side-dishes')\n",
    "#tag_top_10.pop('breakfast-eggs')\n",
    "tag_top_10"
   ]
  },
  {
   "cell_type": "code",
   "execution_count": 82,
   "metadata": {},
   "outputs": [],
   "source": [
    "special_tag = {'tropical-fruit' : 5334, 'chocolate' : 9388, 'no-cook': 6193, 'canadian': 4571, 'quick-breads': 5651, 'mexican' : 6693, 'server-cold' : 7557}"
   ]
  },
  {
   "cell_type": "code",
   "execution_count": 83,
   "metadata": {},
   "outputs": [
    {
     "data": {
      "text/plain": [
       "Text(0.5, 1.0, 'Useful tags')"
      ]
     },
     "execution_count": 83,
     "metadata": {},
     "output_type": "execute_result"
    },
    {
     "data": {
      "image/png": "[encoded data removed]",
      "text/plain": [
       "<Figure size 432x288 with 1 Axes>"
      ]
     },
     "metadata": {},
     "output_type": "display_data"
    }
   ],
   "source": [
    "keys = list(special_tag.keys())\n",
    "# get values in the same order as keys, and parse percentage values\n",
    "vals = [float(special_tag[k]) for k in keys]\n",
    "ax = sns.barplot(x=keys, y=vals)\n",
    "ax.set_xticklabels(ax.get_xticklabels(), rotation=40, ha=\"right\")\n",
    "ax.set_title(\"Useful tags\")"
   ]
  }
 ],
 "metadata": {
  "interpreter": {
   "hash": "cf40792dab14543dc27bc60c946d2bf37b56bd1f7c63b3c17141f46241c046c5"
  },
  "kernelspec": {
   "display_name": "Python 3.7.4 64-bit ('base': conda)",
   "name": "python3"
  },
  "language_info": {
   "codemirror_mode": {
    "name": "ipython",
    "version": 3
   },
   "file_extension": ".py",
   "mimetype": "text/x-python",
   "name": "python",
   "nbconvert_exporter": "python",
   "pygments_lexer": "ipython3",
   "version": "3.7.4"
  },
  "orig_nbformat": 4
 },
 "nbformat": 4,
 "nbformat_minor": 2
}
