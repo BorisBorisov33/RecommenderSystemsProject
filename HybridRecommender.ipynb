{
 "cells": [
  {
   "cell_type": "code",
   "execution_count": 3,
   "metadata": {},
   "outputs": [],
   "source": [
    "import pandas as pd\n",
    "import numpy as np\n",
    "from sklearn.neighbors import KNeighborsRegressor\n",
    "from sklearn.metrics import mean_squared_error"
   ]
  },
  {
   "cell_type": "markdown",
   "metadata": {},
   "source": [
    "## Loading Data"
   ]
  },
  {
   "cell_type": "code",
   "execution_count": 4,
   "metadata": {},
   "outputs": [
    {
     "name": "stdout",
     "output_type": "stream",
     "text": [
      "103662\n"
     ]
    }
   ],
   "source": [
    "df_filtered= pd.read_csv(\"filtered_df.csv\")\n",
    "df_recipe= pd.read_csv(\"df_recipe_features.csv\")\n",
    "df_vegan= pd.read_csv(\"df_vegan_recipe.csv\")\n",
    "df_filtered['rating']= df_filtered['rating'].transform(lambda x: x - x.mean())\n",
    "df_recipe.rename(columns={'id': 'item'}, inplace=True)\n",
    "df_filtered.rename(columns={'recipe_id': 'item'}, inplace=True)\n",
    "df_filered_check= df_recipe[df_recipe['item'].isin(df_filtered['item'])]\n",
    "print(len(df_filered_check))\n"
   ]
  },
  {
   "cell_type": "code",
   "execution_count": 5,
   "metadata": {},
   "outputs": [
    {
     "data": {
      "text/plain": [
       "231637"
      ]
     },
     "execution_count": 5,
     "metadata": {},
     "output_type": "execute_result"
    }
   ],
   "source": [
    "len(df_recipe)"
   ]
  },
  {
   "cell_type": "markdown",
   "metadata": {},
   "source": []
  },
  {
   "cell_type": "code",
   "execution_count": 6,
   "metadata": {},
   "outputs": [
    {
     "data": {
      "text/html": [
       "<div>\n",
       "<style scoped>\n",
       "    .dataframe tbody tr th:only-of-type {\n",
       "        vertical-align: middle;\n",
       "    }\n",
       "\n",
       "    .dataframe tbody tr th {\n",
       "        vertical-align: top;\n",
       "    }\n",
       "\n",
       "    .dataframe thead th {\n",
       "        text-align: right;\n",
       "    }\n",
       "</style>\n",
       "<table border=\"1\" class=\"dataframe\">\n",
       "  <thead>\n",
       "    <tr style=\"text-align: right;\">\n",
       "      <th></th>\n",
       "      <th>Unnamed: 0</th>\n",
       "      <th>name</th>\n",
       "      <th>item</th>\n",
       "      <th>minutes</th>\n",
       "      <th>n_steps</th>\n",
       "      <th>steps</th>\n",
       "      <th>description</th>\n",
       "      <th>ingredients</th>\n",
       "      <th>n_ingredients</th>\n",
       "      <th>calories</th>\n",
       "      <th>total fat (PDV)</th>\n",
       "      <th>sugar (PDV)</th>\n",
       "      <th>sodium (PDV)</th>\n",
       "      <th>protein (PDV)</th>\n",
       "      <th>saturated fat (PDV)</th>\n",
       "      <th>carbohydrates (PDV)</th>\n",
       "      <th>dessert</th>\n",
       "    </tr>\n",
       "  </thead>\n",
       "  <tbody>\n",
       "    <tr>\n",
       "      <th>0</th>\n",
       "      <td>0</td>\n",
       "      <td>arriba   baked winter squash mexican style</td>\n",
       "      <td>137739</td>\n",
       "      <td>55</td>\n",
       "      <td>11</td>\n",
       "      <td>['make a choice and proceed with recipe', 'dep...</td>\n",
       "      <td>autumn is my favorite time of year to cook! th...</td>\n",
       "      <td>['winter squash', 'mexican seasoning', 'mixed ...</td>\n",
       "      <td>7</td>\n",
       "      <td>51.5</td>\n",
       "      <td>0.0</td>\n",
       "      <td>13.0</td>\n",
       "      <td>0.0</td>\n",
       "      <td>2.0</td>\n",
       "      <td>0.0</td>\n",
       "      <td>4.0</td>\n",
       "      <td>False</td>\n",
       "    </tr>\n",
       "    <tr>\n",
       "      <th>1</th>\n",
       "      <td>1</td>\n",
       "      <td>a bit different  breakfast pizza</td>\n",
       "      <td>31490</td>\n",
       "      <td>30</td>\n",
       "      <td>9</td>\n",
       "      <td>['preheat oven to 425 degrees f', 'press dough...</td>\n",
       "      <td>this recipe calls for the crust to be prebaked...</td>\n",
       "      <td>['prepared pizza crust', 'sausage patty', 'egg...</td>\n",
       "      <td>6</td>\n",
       "      <td>173.4</td>\n",
       "      <td>18.0</td>\n",
       "      <td>0.0</td>\n",
       "      <td>17.0</td>\n",
       "      <td>22.0</td>\n",
       "      <td>35.0</td>\n",
       "      <td>1.0</td>\n",
       "      <td>False</td>\n",
       "    </tr>\n",
       "    <tr>\n",
       "      <th>2</th>\n",
       "      <td>2</td>\n",
       "      <td>all in the kitchen  chili</td>\n",
       "      <td>112140</td>\n",
       "      <td>130</td>\n",
       "      <td>6</td>\n",
       "      <td>['brown ground beef in large pot', 'add choppe...</td>\n",
       "      <td>this modified version of 'mom's' chili was a h...</td>\n",
       "      <td>['ground beef', 'yellow onions', 'diced tomato...</td>\n",
       "      <td>13</td>\n",
       "      <td>269.8</td>\n",
       "      <td>22.0</td>\n",
       "      <td>32.0</td>\n",
       "      <td>48.0</td>\n",
       "      <td>39.0</td>\n",
       "      <td>27.0</td>\n",
       "      <td>5.0</td>\n",
       "      <td>False</td>\n",
       "    </tr>\n",
       "    <tr>\n",
       "      <th>3</th>\n",
       "      <td>3</td>\n",
       "      <td>alouette  potatoes</td>\n",
       "      <td>59389</td>\n",
       "      <td>45</td>\n",
       "      <td>11</td>\n",
       "      <td>['place potatoes in a large pot of lightly sal...</td>\n",
       "      <td>this is a super easy, great tasting, make ahea...</td>\n",
       "      <td>['spreadable cheese with garlic and herbs', 'n...</td>\n",
       "      <td>11</td>\n",
       "      <td>368.1</td>\n",
       "      <td>17.0</td>\n",
       "      <td>10.0</td>\n",
       "      <td>2.0</td>\n",
       "      <td>14.0</td>\n",
       "      <td>8.0</td>\n",
       "      <td>20.0</td>\n",
       "      <td>False</td>\n",
       "    </tr>\n",
       "    <tr>\n",
       "      <th>4</th>\n",
       "      <td>4</td>\n",
       "      <td>amish  tomato ketchup  for canning</td>\n",
       "      <td>44061</td>\n",
       "      <td>190</td>\n",
       "      <td>5</td>\n",
       "      <td>['mix all ingredients&amp; boil for 2 1 / 2 hours ...</td>\n",
       "      <td>my dh's amish mother raised him on this recipe...</td>\n",
       "      <td>['tomato juice', 'apple cider vinegar', 'sugar...</td>\n",
       "      <td>8</td>\n",
       "      <td>352.9</td>\n",
       "      <td>1.0</td>\n",
       "      <td>337.0</td>\n",
       "      <td>23.0</td>\n",
       "      <td>3.0</td>\n",
       "      <td>0.0</td>\n",
       "      <td>28.0</td>\n",
       "      <td>False</td>\n",
       "    </tr>\n",
       "    <tr>\n",
       "      <th>...</th>\n",
       "      <td>...</td>\n",
       "      <td>...</td>\n",
       "      <td>...</td>\n",
       "      <td>...</td>\n",
       "      <td>...</td>\n",
       "      <td>...</td>\n",
       "      <td>...</td>\n",
       "      <td>...</td>\n",
       "      <td>...</td>\n",
       "      <td>...</td>\n",
       "      <td>...</td>\n",
       "      <td>...</td>\n",
       "      <td>...</td>\n",
       "      <td>...</td>\n",
       "      <td>...</td>\n",
       "      <td>...</td>\n",
       "      <td>...</td>\n",
       "    </tr>\n",
       "    <tr>\n",
       "      <th>231632</th>\n",
       "      <td>231632</td>\n",
       "      <td>zydeco soup</td>\n",
       "      <td>486161</td>\n",
       "      <td>60</td>\n",
       "      <td>7</td>\n",
       "      <td>['heat oil in a 4-quart dutch oven', 'add cele...</td>\n",
       "      <td>this is a delicious soup that i originally fou...</td>\n",
       "      <td>['celery', 'onion', 'green sweet pepper', 'gar...</td>\n",
       "      <td>22</td>\n",
       "      <td>415.2</td>\n",
       "      <td>26.0</td>\n",
       "      <td>34.0</td>\n",
       "      <td>26.0</td>\n",
       "      <td>44.0</td>\n",
       "      <td>21.0</td>\n",
       "      <td>15.0</td>\n",
       "      <td>False</td>\n",
       "    </tr>\n",
       "    <tr>\n",
       "      <th>231633</th>\n",
       "      <td>231633</td>\n",
       "      <td>zydeco spice mix</td>\n",
       "      <td>493372</td>\n",
       "      <td>5</td>\n",
       "      <td>1</td>\n",
       "      <td>['mix all ingredients together thoroughly']</td>\n",
       "      <td>this spice mix will make your taste buds dance!</td>\n",
       "      <td>['paprika', 'salt', 'garlic powder', 'onion po...</td>\n",
       "      <td>13</td>\n",
       "      <td>14.8</td>\n",
       "      <td>0.0</td>\n",
       "      <td>2.0</td>\n",
       "      <td>58.0</td>\n",
       "      <td>1.0</td>\n",
       "      <td>0.0</td>\n",
       "      <td>1.0</td>\n",
       "      <td>False</td>\n",
       "    </tr>\n",
       "    <tr>\n",
       "      <th>231634</th>\n",
       "      <td>231634</td>\n",
       "      <td>zydeco ya ya deviled eggs</td>\n",
       "      <td>308080</td>\n",
       "      <td>40</td>\n",
       "      <td>7</td>\n",
       "      <td>['in a bowl , combine the mashed yolks and may...</td>\n",
       "      <td>deviled eggs, cajun-style</td>\n",
       "      <td>['hard-cooked eggs', 'mayonnaise', 'dijon must...</td>\n",
       "      <td>8</td>\n",
       "      <td>59.2</td>\n",
       "      <td>6.0</td>\n",
       "      <td>2.0</td>\n",
       "      <td>3.0</td>\n",
       "      <td>6.0</td>\n",
       "      <td>5.0</td>\n",
       "      <td>0.0</td>\n",
       "      <td>False</td>\n",
       "    </tr>\n",
       "    <tr>\n",
       "      <th>231635</th>\n",
       "      <td>231635</td>\n",
       "      <td>cookies by design   cookies on a stick</td>\n",
       "      <td>298512</td>\n",
       "      <td>29</td>\n",
       "      <td>9</td>\n",
       "      <td>['place melted butter in a large mixing bowl a...</td>\n",
       "      <td>i've heard of the 'cookies by design' company,...</td>\n",
       "      <td>['butter', 'eagle brand condensed milk', 'ligh...</td>\n",
       "      <td>10</td>\n",
       "      <td>188.0</td>\n",
       "      <td>11.0</td>\n",
       "      <td>57.0</td>\n",
       "      <td>11.0</td>\n",
       "      <td>7.0</td>\n",
       "      <td>21.0</td>\n",
       "      <td>9.0</td>\n",
       "      <td>False</td>\n",
       "    </tr>\n",
       "    <tr>\n",
       "      <th>231636</th>\n",
       "      <td>231636</td>\n",
       "      <td>cookies by design   sugar shortbread cookies</td>\n",
       "      <td>298509</td>\n",
       "      <td>20</td>\n",
       "      <td>5</td>\n",
       "      <td>['whip sugar and shortening in a large bowl , ...</td>\n",
       "      <td>i've heard of the 'cookies by design' company,...</td>\n",
       "      <td>['granulated sugar', 'shortening', 'eggs', 'fl...</td>\n",
       "      <td>7</td>\n",
       "      <td>174.9</td>\n",
       "      <td>14.0</td>\n",
       "      <td>33.0</td>\n",
       "      <td>4.0</td>\n",
       "      <td>4.0</td>\n",
       "      <td>11.0</td>\n",
       "      <td>6.0</td>\n",
       "      <td>False</td>\n",
       "    </tr>\n",
       "  </tbody>\n",
       "</table>\n",
       "<p>231637 rows × 17 columns</p>\n",
       "</div>"
      ],
      "text/plain": [
       "        Unnamed: 0                                          name    item  \\\n",
       "0                0    arriba   baked winter squash mexican style  137739   \n",
       "1                1              a bit different  breakfast pizza   31490   \n",
       "2                2                     all in the kitchen  chili  112140   \n",
       "3                3                            alouette  potatoes   59389   \n",
       "4                4            amish  tomato ketchup  for canning   44061   \n",
       "...            ...                                           ...     ...   \n",
       "231632      231632                                   zydeco soup  486161   \n",
       "231633      231633                              zydeco spice mix  493372   \n",
       "231634      231634                     zydeco ya ya deviled eggs  308080   \n",
       "231635      231635        cookies by design   cookies on a stick  298512   \n",
       "231636      231636  cookies by design   sugar shortbread cookies  298509   \n",
       "\n",
       "        minutes  n_steps                                              steps  \\\n",
       "0            55       11  ['make a choice and proceed with recipe', 'dep...   \n",
       "1            30        9  ['preheat oven to 425 degrees f', 'press dough...   \n",
       "2           130        6  ['brown ground beef in large pot', 'add choppe...   \n",
       "3            45       11  ['place potatoes in a large pot of lightly sal...   \n",
       "4           190        5  ['mix all ingredients& boil for 2 1 / 2 hours ...   \n",
       "...         ...      ...                                                ...   \n",
       "231632       60        7  ['heat oil in a 4-quart dutch oven', 'add cele...   \n",
       "231633        5        1        ['mix all ingredients together thoroughly']   \n",
       "231634       40        7  ['in a bowl , combine the mashed yolks and may...   \n",
       "231635       29        9  ['place melted butter in a large mixing bowl a...   \n",
       "231636       20        5  ['whip sugar and shortening in a large bowl , ...   \n",
       "\n",
       "                                              description  \\\n",
       "0       autumn is my favorite time of year to cook! th...   \n",
       "1       this recipe calls for the crust to be prebaked...   \n",
       "2       this modified version of 'mom's' chili was a h...   \n",
       "3       this is a super easy, great tasting, make ahea...   \n",
       "4       my dh's amish mother raised him on this recipe...   \n",
       "...                                                   ...   \n",
       "231632  this is a delicious soup that i originally fou...   \n",
       "231633    this spice mix will make your taste buds dance!   \n",
       "231634                          deviled eggs, cajun-style   \n",
       "231635  i've heard of the 'cookies by design' company,...   \n",
       "231636  i've heard of the 'cookies by design' company,...   \n",
       "\n",
       "                                              ingredients  n_ingredients  \\\n",
       "0       ['winter squash', 'mexican seasoning', 'mixed ...              7   \n",
       "1       ['prepared pizza crust', 'sausage patty', 'egg...              6   \n",
       "2       ['ground beef', 'yellow onions', 'diced tomato...             13   \n",
       "3       ['spreadable cheese with garlic and herbs', 'n...             11   \n",
       "4       ['tomato juice', 'apple cider vinegar', 'sugar...              8   \n",
       "...                                                   ...            ...   \n",
       "231632  ['celery', 'onion', 'green sweet pepper', 'gar...             22   \n",
       "231633  ['paprika', 'salt', 'garlic powder', 'onion po...             13   \n",
       "231634  ['hard-cooked eggs', 'mayonnaise', 'dijon must...              8   \n",
       "231635  ['butter', 'eagle brand condensed milk', 'ligh...             10   \n",
       "231636  ['granulated sugar', 'shortening', 'eggs', 'fl...              7   \n",
       "\n",
       "        calories  total fat (PDV)  sugar (PDV)  sodium (PDV)  protein (PDV)  \\\n",
       "0           51.5              0.0         13.0           0.0            2.0   \n",
       "1          173.4             18.0          0.0          17.0           22.0   \n",
       "2          269.8             22.0         32.0          48.0           39.0   \n",
       "3          368.1             17.0         10.0           2.0           14.0   \n",
       "4          352.9              1.0        337.0          23.0            3.0   \n",
       "...          ...              ...          ...           ...            ...   \n",
       "231632     415.2             26.0         34.0          26.0           44.0   \n",
       "231633      14.8              0.0          2.0          58.0            1.0   \n",
       "231634      59.2              6.0          2.0           3.0            6.0   \n",
       "231635     188.0             11.0         57.0          11.0            7.0   \n",
       "231636     174.9             14.0         33.0           4.0            4.0   \n",
       "\n",
       "        saturated fat (PDV)  carbohydrates (PDV)  dessert  \n",
       "0                       0.0                  4.0    False  \n",
       "1                      35.0                  1.0    False  \n",
       "2                      27.0                  5.0    False  \n",
       "3                       8.0                 20.0    False  \n",
       "4                       0.0                 28.0    False  \n",
       "...                     ...                  ...      ...  \n",
       "231632                 21.0                 15.0    False  \n",
       "231633                  0.0                  1.0    False  \n",
       "231634                  5.0                  0.0    False  \n",
       "231635                 21.0                  9.0    False  \n",
       "231636                 11.0                  6.0    False  \n",
       "\n",
       "[231637 rows x 17 columns]"
      ]
     },
     "execution_count": 6,
     "metadata": {},
     "output_type": "execute_result"
    }
   ],
   "source": [
    "\n",
    "df_recipe"
   ]
  },
  {
   "cell_type": "markdown",
   "metadata": {},
   "source": [
    " ## Hybrid Recommender System (Pipeline)"
   ]
  },
  {
   "cell_type": "markdown",
   "metadata": {},
   "source": [
    "## Content Based Filtering"
   ]
  },
  {
   "cell_type": "code",
   "execution_count": 16,
   "metadata": {},
   "outputs": [],
   "source": [
    "class ContentBasedFiltering:\n",
    "    def __init__(self, groupRecommendation):\n",
    "        self.groupRecommendation=groupRecommendation\n",
    "        \n",
    "    def retrieve_info (self,user_id):\n",
    "        selected_user_ratings = df_filtered.loc[df_filtered['user_id'] == user_id]\n",
    "        selected_user_ratings = selected_user_ratings.sort_values(by='item', ascending=True)\n",
    "        return(selected_user_ratings)\n",
    "    \n",
    "    def combine_info( self,selected_users):\n",
    "        group_contentbased_info=[]\n",
    "        for user_id in selected_users:\n",
    "            group_contentbased_info.append(self.retrieve_info(user_id))\n",
    "        \n",
    "        return (group_contentbased_info)\n",
    "\n",
    "    def recipe_info(self, user_rating):\n",
    "        \n",
    "        rated_recipe_df = df_recipe.loc[df_recipe['item'].isin(list(user_rating['item']))]\n",
    "        rated_recipe_df = rated_recipe_df.merge(user_rating, on='item')\n",
    "        rated_recipe_df['rating']= rated_recipe_df['rating'].transform(lambda x: x - x.mean())\n",
    "        return (rated_recipe_df)\n",
    "    \n",
    "    def combine_recipe_info(self, selected_user):\n",
    "        group_recipe_df=pd.DataFrame()\n",
    "        for user_id in selected_user:\n",
    "            user_rating= self.retrieve_info(user_id)\n",
    "            user_recipe_info= self.recipe_info(user_rating)\n",
    "            group_recipe_df= group_recipe_df.append(user_recipe_info)\n",
    "        \n",
    "        return (group_recipe_df)\n",
    "    \n",
    "    \n",
    "    def get_unrated_df(self, group_rating):\n",
    "        unrated_recipe_df=[]\n",
    "        count=0\n",
    "        df_Recipe= df_recipe.copy()\n",
    "        df_Recipe.set_index('item',inplace=True,drop=True)\n",
    "        for group_Rating in group_rating:\n",
    "            \n",
    "            #unrated_recipe_df=df_recipe.loc[df_recipe['item'].isin(list(group_Rating['item']))]\n",
    "            #diff = group_Rating[~group_Rating.index.isin(df_recipe['item']) ]\n",
    "            #set(df_recipe['item']) - set(group_Rating['item'])\n",
    "            \n",
    "\n",
    "            diff= np.setdiff1d(df_recipe['item'], group_Rating['item'])\n",
    "            \n",
    "            unrated_recipe_df = df_Recipe.loc[diff]\n",
    "            count= count+1\n",
    "            unrated_recipe_df = unrated_recipe_df.sample(n=500)\n",
    "            unrated_recipe_df = unrated_recipe_df.merge(df_filtered, on='item')\n",
    "            #unrated_recipe_df['rating']= unrated_recipe_df['rating'].transform(lambda x: x - x.mean())\n",
    "        \n",
    "        return(unrated_recipe_df)\n",
    "\n",
    "    def train_predict(self,selected_group):\n",
    "        group_rating= self.combine_info(selected_group)\n",
    "        group_recipe_df= self.combine_recipe_info(selected_group)\n",
    "        \n",
    "        group_unrated_df= self.get_unrated_df(group_rating)\n",
    "\n",
    "\n",
    "        features_columns = ['dessert'] # the features we have selected from the dataset\n",
    "        X_train = group_recipe_df[features_columns] # x contains the columns of the selected features\n",
    "        y_train = group_recipe_df['rating'] # y contains the classification feature.\n",
    "        X_test = group_unrated_df[features_columns] # x contains the columns of the selected features\n",
    "        y_test = group_unrated_df['rating'] # y contains the classification feature.\n",
    "\n",
    "        test_df['predicted_rating'] = recsys.predict(test_df)\n",
    "        test_df['relevant'] = test_df['rating'].apply(lambda x: 1 if x>0 else 0)\n",
    "        test_df['predicted_relevant'] = test_df['predicted_rating'].apply(lambda x: 1 if x>0 else 0)\n",
    "        test_df=test_df.dropna()\n",
    "        y_test = list(test_df['relevant'])\n",
    "        y_pred = list(test_df['predicted_relevant'])\n",
    "        precision, recall, fscore, _ = precision_recall_fscore_support(y_test, y_pred, average=\"binary\")\n",
    "\n",
    "        print(\"Precision:\\t\" + str(precision) + \n",
    "      \"\\nRecall:\\t\" + str(recall) + \n",
    "      \"\\nFscore:\\t\" + str(fscore))   \n",
    "\n",
    "        neigh = KNeighborsRegressor(n_neighbors=3)\n",
    "\n",
    "        neigh.fit(X_train, y_train) \n",
    "        y_unrated = neigh.predict(X_test)\n",
    "        group_unrated_df['predicted_ratings_kNN'] = y_unrated\n",
    "        groupRecommendation = group_unrated_df.sort_values(by='predicted_ratings_kNN', ascending=False)\n",
    "        return (groupRecommendation)\n",
    "           \n",
    "\n",
    "\n",
    "            \n",
    "            "
   ]
  },
  {
   "cell_type": "markdown",
   "metadata": {},
   "source": []
  },
  {
   "cell_type": "code",
   "execution_count": 128,
   "metadata": {},
   "outputs": [],
   "source": [
    "groupRecommendation=[]\n",
    "ContentBased= ContentBasedFiltering( groupRecommendation=[])\n",
    "\n",
    "#users_ratings = df_filtered.groupby(['user_id']).count()\n",
    "#selected = users_ratings['rating'] > 200\n",
    "#selected_users = users_ratings.loc[selected]\n",
    "##random_selected = selected_users.sample(10) # sample() returns a random row from the dataframe. The returned object is a dataframe with one row. If you pass a number as argument you specify to select more than one row.\n",
    "#select_column_df = random_selected.reset_index()['user_id'] # reset_index() create a new index, and the user became a column. Then, we can filter using the column name\n",
    "#select_column_df\n",
    "selected_users= [1533,\n",
    " 6651,\n",
    " 38218,\n",
    " 39733,\n",
    " 60260,\n",
    " 79877,\n",
    " 230557,\n",
    " 284922,\n",
    " 340130,\n",
    " 341344,\n",
    " 373018,\n",
    " 377039,\n",
    " 422609]\n",
    "groupRecommendation=ContentBased.train_predict(selected_users)\n"
   ]
  },
  {
   "cell_type": "code",
   "execution_count": 77,
   "metadata": {},
   "outputs": [
    {
     "data": {
      "text/plain": [
       "numpy.int64"
      ]
     },
     "execution_count": 77,
     "metadata": {},
     "output_type": "execute_result"
    }
   ],
   "source": [
    "type(groupRecommendation['item'].iloc[0])"
   ]
  },
  {
   "cell_type": "code",
   "execution_count": 23,
   "metadata": {},
   "outputs": [
    {
     "data": {
      "text/plain": [
       "434"
      ]
     },
     "execution_count": 23,
     "metadata": {},
     "output_type": "execute_result"
    }
   ],
   "source": [
    "len(groupRecommendation['user_id'].unique())"
   ]
  },
  {
   "cell_type": "code",
   "execution_count": 75,
   "metadata": {},
   "outputs": [
    {
     "data": {
      "text/html": [
       "<div>\n",
       "<style scoped>\n",
       "    .dataframe tbody tr th:only-of-type {\n",
       "        vertical-align: middle;\n",
       "    }\n",
       "\n",
       "    .dataframe tbody tr th {\n",
       "        vertical-align: top;\n",
       "    }\n",
       "\n",
       "    .dataframe thead th {\n",
       "        text-align: right;\n",
       "    }\n",
       "</style>\n",
       "<table border=\"1\" class=\"dataframe\">\n",
       "  <thead>\n",
       "    <tr style=\"text-align: right;\">\n",
       "      <th></th>\n",
       "      <th>Unnamed: 0</th>\n",
       "      <th>user_id</th>\n",
       "      <th>item</th>\n",
       "      <th>date</th>\n",
       "      <th>rating</th>\n",
       "      <th>review</th>\n",
       "    </tr>\n",
       "  </thead>\n",
       "  <tbody>\n",
       "    <tr>\n",
       "      <th>121659</th>\n",
       "      <td>577942</td>\n",
       "      <td>522099</td>\n",
       "      <td>1522</td>\n",
       "      <td>2008-04-16</td>\n",
       "      <td>0.445042</td>\n",
       "      <td>Funny story - I made this for Freezer Tag 2008...</td>\n",
       "    </tr>\n",
       "    <tr>\n",
       "      <th>121464</th>\n",
       "      <td>576958</td>\n",
       "      <td>522099</td>\n",
       "      <td>6932</td>\n",
       "      <td>2010-05-21</td>\n",
       "      <td>-0.554958</td>\n",
       "      <td>I followed your note and made the cloves optio...</td>\n",
       "    </tr>\n",
       "    <tr>\n",
       "      <th>158316</th>\n",
       "      <td>755796</td>\n",
       "      <td>522099</td>\n",
       "      <td>7798</td>\n",
       "      <td>2008-03-17</td>\n",
       "      <td>0.445042</td>\n",
       "      <td>This is an outstanding marinade.  It made me l...</td>\n",
       "    </tr>\n",
       "    <tr>\n",
       "      <th>207227</th>\n",
       "      <td>987847</td>\n",
       "      <td>522099</td>\n",
       "      <td>9531</td>\n",
       "      <td>2009-08-25</td>\n",
       "      <td>0.445042</td>\n",
       "      <td>Truth in advertising.  It has the same mouth-f...</td>\n",
       "    </tr>\n",
       "    <tr>\n",
       "      <th>214924</th>\n",
       "      <td>1024188</td>\n",
       "      <td>522099</td>\n",
       "      <td>13126</td>\n",
       "      <td>2010-09-08</td>\n",
       "      <td>0.445042</td>\n",
       "      <td>I made these and promptly forgot about them.  ...</td>\n",
       "    </tr>\n",
       "    <tr>\n",
       "      <th>...</th>\n",
       "      <td>...</td>\n",
       "      <td>...</td>\n",
       "      <td>...</td>\n",
       "      <td>...</td>\n",
       "      <td>...</td>\n",
       "      <td>...</td>\n",
       "    </tr>\n",
       "    <tr>\n",
       "      <th>7440</th>\n",
       "      <td>35072</td>\n",
       "      <td>522099</td>\n",
       "      <td>428771</td>\n",
       "      <td>2010-06-14</td>\n",
       "      <td>0.445042</td>\n",
       "      <td>A million stars!  I love chicken in yogurt bas...</td>\n",
       "    </tr>\n",
       "    <tr>\n",
       "      <th>71548</th>\n",
       "      <td>339450</td>\n",
       "      <td>522099</td>\n",
       "      <td>433896</td>\n",
       "      <td>2012-07-29</td>\n",
       "      <td>0.445042</td>\n",
       "      <td>I'm not sure these are legal! Sliced my potato...</td>\n",
       "    </tr>\n",
       "    <tr>\n",
       "      <th>207024</th>\n",
       "      <td>986992</td>\n",
       "      <td>522099</td>\n",
       "      <td>454232</td>\n",
       "      <td>2012-07-24</td>\n",
       "      <td>0.445042</td>\n",
       "      <td>Where's the million star button?!?! I LOVED th...</td>\n",
       "    </tr>\n",
       "    <tr>\n",
       "      <th>199690</th>\n",
       "      <td>952840</td>\n",
       "      <td>522099</td>\n",
       "      <td>460186</td>\n",
       "      <td>2012-07-29</td>\n",
       "      <td>0.445042</td>\n",
       "      <td>I used all green peppers as that's what the ga...</td>\n",
       "    </tr>\n",
       "    <tr>\n",
       "      <th>163449</th>\n",
       "      <td>779919</td>\n",
       "      <td>522099</td>\n",
       "      <td>480922</td>\n",
       "      <td>2012-07-29</td>\n",
       "      <td>-0.554958</td>\n",
       "      <td>Good stuff for watching the Summer Games on TV...</td>\n",
       "    </tr>\n",
       "  </tbody>\n",
       "</table>\n",
       "<p>232 rows × 6 columns</p>\n",
       "</div>"
      ],
      "text/plain": [
       "        Unnamed: 0  user_id    item        date    rating  \\\n",
       "121659      577942   522099    1522  2008-04-16  0.445042   \n",
       "121464      576958   522099    6932  2010-05-21 -0.554958   \n",
       "158316      755796   522099    7798  2008-03-17  0.445042   \n",
       "207227      987847   522099    9531  2009-08-25  0.445042   \n",
       "214924     1024188   522099   13126  2010-09-08  0.445042   \n",
       "...            ...      ...     ...         ...       ...   \n",
       "7440         35072   522099  428771  2010-06-14  0.445042   \n",
       "71548       339450   522099  433896  2012-07-29  0.445042   \n",
       "207024      986992   522099  454232  2012-07-24  0.445042   \n",
       "199690      952840   522099  460186  2012-07-29  0.445042   \n",
       "163449      779919   522099  480922  2012-07-29 -0.554958   \n",
       "\n",
       "                                                   review  \n",
       "121659  Funny story - I made this for Freezer Tag 2008...  \n",
       "121464  I followed your note and made the cloves optio...  \n",
       "158316  This is an outstanding marinade.  It made me l...  \n",
       "207227  Truth in advertising.  It has the same mouth-f...  \n",
       "214924  I made these and promptly forgot about them.  ...  \n",
       "...                                                   ...  \n",
       "7440    A million stars!  I love chicken in yogurt bas...  \n",
       "71548   I'm not sure these are legal! Sliced my potato...  \n",
       "207024  Where's the million star button?!?! I LOVED th...  \n",
       "199690  I used all green peppers as that's what the ga...  \n",
       "163449  Good stuff for watching the Summer Games on TV...  \n",
       "\n",
       "[232 rows x 6 columns]"
      ]
     },
     "execution_count": 75,
     "metadata": {},
     "output_type": "execute_result"
    }
   ],
   "source": [
    "groupRecommendation['item']"
   ]
  },
  {
   "cell_type": "markdown",
   "metadata": {},
   "source": [
    "## Collaborative Filtering"
   ]
  },
  {
   "cell_type": "code",
   "execution_count": 25,
   "metadata": {},
   "outputs": [],
   "source": [
    "import itertools\n",
    "from lenskit.algorithms import Recommender\n",
    "from lenskit.algorithms.user_knn import UserUser"
   ]
  },
  {
   "cell_type": "code",
   "execution_count": 122,
   "metadata": {},
   "outputs": [],
   "source": [
    "result= df_filtered.sort_values(by= 'user_id')\n",
    "result= result.drop(result.columns[[0,3,5]],axis=1)\n",
    "result.rename(columns = {'user_id':'user', 'recipe_id':'item'}, inplace = True)\n",
    "   "
   ]
  },
  {
   "cell_type": "code",
   "execution_count": 27,
   "metadata": {},
   "outputs": [
    {
     "data": {
      "text/plain": [
       "pandas.core.indexes.numeric.Int64Index"
      ]
     },
     "execution_count": 27,
     "metadata": {},
     "output_type": "execute_result"
    }
   ],
   "source": [
    "type(groupRecommendation.index)"
   ]
  },
  {
   "cell_type": "code",
   "execution_count": null,
   "metadata": {},
   "outputs": [
    {
     "name": "stderr",
     "output_type": "stream",
     "text": [
      "user 40 has no ratings and none provided\n",
      "user 635 has no ratings and none provided\n",
      "user 1367 has no ratings and none provided\n",
      "user 1442 has no ratings and none provided\n",
      "user 1817 has no ratings and none provided\n"
     ]
    },
    {
     "name": "stdout",
     "output_type": "stream",
     "text": [
      "Precision:\t0.8385977091287747\n",
      "Recall:\t0.7120542292956086\n",
      "Fscore:\t0.7701625757092764\n"
     ]
    }
   ],
   "source": [
    "from sklearn.model_selection import train_test_split\n",
    "from sklearn.metrics import precision_recall_fscore_support\n",
    "\n",
    "train_df, test_df = train_test_split(result, test_size=0.2)\n",
    "\n",
    "user_user = UserUser(15, min_nbrs=3)  # Minimum (3) and maximum (15) number of neighbors to consider\n",
    "recsys = Recommender.adapt(user_user)\n",
    "recsys.fit(train_df)\n",
    "\n",
    "test_df['predicted_rating'] = recsys.predict(test_df)\n",
    "test_df['relevant'] = test_df['rating'].apply(lambda x: 1 if x>0 else 0)\n",
    "test_df['predicted_relevant'] = test_df['predicted_rating'].apply(lambda x: 1 if x>0 else 0)\n",
    "test_df=test_df.dropna()\n",
    "y_test = list(test_df['relevant'])\n",
    "y_pred = list(test_df['predicted_relevant'])\n",
    "precision, recall, fscore, _ = precision_recall_fscore_support(y_test, y_pred, average=\"binary\")\n",
    "\n",
    "print(\"Precision:\\t\" + str(precision) + \n",
    "      \"\\nRecall:\\t\" + str(recall) + \n",
    "      \"\\nFscore:\\t\" + str(fscore))\n",
    "      \n",
    "group_unseen_df = pd.DataFrame(list(itertools.product(selected_users, groupRecommendation['item'])), columns=['user', 'item'])\n",
    "\n",
    "group_unseen_df = group_unseen_df.drop_duplicates(keep= 'first')\n",
    "group_unseen_df['predicted_rating'] = recsys.predict(group_unseen_df)\n",
    "group_unseen_df.dropna(inplace=True)\n"
   ]
  },
  {
   "cell_type": "code",
   "execution_count": null,
   "metadata": {},
   "outputs": [
    {
     "data": {
      "text/plain": [
       "0.8808732548764928"
      ]
     },
     "execution_count": 107,
     "metadata": {},
     "output_type": "execute_result"
    }
   ],
   "source": [
    "test_df= test_df.dropna()\n",
    "mean_squared_error(test_df['rating'], test_df['predicted_rating'])"
   ]
  },
  {
   "cell_type": "code",
   "execution_count": null,
   "metadata": {},
   "outputs": [
    {
     "data": {
      "text/html": [
       "<div>\n",
       "<style scoped>\n",
       "    .dataframe tbody tr th:only-of-type {\n",
       "        vertical-align: middle;\n",
       "    }\n",
       "\n",
       "    .dataframe tbody tr th {\n",
       "        vertical-align: top;\n",
       "    }\n",
       "\n",
       "    .dataframe thead th {\n",
       "        text-align: right;\n",
       "    }\n",
       "</style>\n",
       "<table border=\"1\" class=\"dataframe\">\n",
       "  <thead>\n",
       "    <tr style=\"text-align: right;\">\n",
       "      <th></th>\n",
       "      <th>user</th>\n",
       "      <th>item</th>\n",
       "      <th>predicted_rating</th>\n",
       "    </tr>\n",
       "  </thead>\n",
       "  <tbody>\n",
       "    <tr>\n",
       "      <th>3021</th>\n",
       "      <td>126435</td>\n",
       "      <td>74300</td>\n",
       "      <td>1.782524</td>\n",
       "    </tr>\n",
       "    <tr>\n",
       "      <th>2616</th>\n",
       "      <td>351578</td>\n",
       "      <td>325457</td>\n",
       "      <td>1.654152</td>\n",
       "    </tr>\n",
       "    <tr>\n",
       "      <th>2845</th>\n",
       "      <td>351578</td>\n",
       "      <td>69382</td>\n",
       "      <td>1.078070</td>\n",
       "    </tr>\n",
       "    <tr>\n",
       "      <th>3573</th>\n",
       "      <td>64625</td>\n",
       "      <td>172160</td>\n",
       "      <td>1.031089</td>\n",
       "    </tr>\n",
       "    <tr>\n",
       "      <th>4524</th>\n",
       "      <td>177753</td>\n",
       "      <td>325457</td>\n",
       "      <td>1.026006</td>\n",
       "    </tr>\n",
       "    <tr>\n",
       "      <th>...</th>\n",
       "      <td>...</td>\n",
       "      <td>...</td>\n",
       "      <td>...</td>\n",
       "    </tr>\n",
       "    <tr>\n",
       "      <th>2950</th>\n",
       "      <td>126435</td>\n",
       "      <td>39165</td>\n",
       "      <td>-0.870455</td>\n",
       "    </tr>\n",
       "    <tr>\n",
       "      <th>4412</th>\n",
       "      <td>177753</td>\n",
       "      <td>860</td>\n",
       "      <td>-0.884900</td>\n",
       "    </tr>\n",
       "    <tr>\n",
       "      <th>3458</th>\n",
       "      <td>64625</td>\n",
       "      <td>860</td>\n",
       "      <td>-1.017721</td>\n",
       "    </tr>\n",
       "    <tr>\n",
       "      <th>2473</th>\n",
       "      <td>351578</td>\n",
       "      <td>39165</td>\n",
       "      <td>-1.518866</td>\n",
       "    </tr>\n",
       "    <tr>\n",
       "      <th>4104</th>\n",
       "      <td>978876</td>\n",
       "      <td>20756</td>\n",
       "      <td>-1.842073</td>\n",
       "    </tr>\n",
       "  </tbody>\n",
       "</table>\n",
       "<p>88 rows × 3 columns</p>\n",
       "</div>"
      ],
      "text/plain": [
       "        user    item  predicted_rating\n",
       "3021  126435   74300          1.782524\n",
       "2616  351578  325457          1.654152\n",
       "2845  351578   69382          1.078070\n",
       "3573   64625  172160          1.031089\n",
       "4524  177753  325457          1.026006\n",
       "...      ...     ...               ...\n",
       "2950  126435   39165         -0.870455\n",
       "4412  177753     860         -0.884900\n",
       "3458   64625     860         -1.017721\n",
       "2473  351578   39165         -1.518866\n",
       "4104  978876   20756         -1.842073\n",
       "\n",
       "[88 rows x 3 columns]"
      ]
     },
     "execution_count": 85,
     "metadata": {},
     "output_type": "execute_result"
    }
   ],
   "source": [
    "group_unseen_df.sort_values(by='predicted_rating',ascending=False)"
   ]
  },
  {
   "cell_type": "code",
   "execution_count": 34,
   "metadata": {},
   "outputs": [
    {
     "data": {
      "text/plain": [
       "14872"
      ]
     },
     "execution_count": 34,
     "metadata": {},
     "output_type": "execute_result"
    }
   ],
   "source": [
    "df_filtered['item'].loc[178151]"
   ]
  },
  {
   "cell_type": "code",
   "execution_count": 50,
   "metadata": {},
   "outputs": [
    {
     "data": {
      "text/plain": [
       "287    chipotle chicken salad\n",
       "290    chipotle chicken salad\n",
       "289    chipotle chicken salad\n",
       "288    chipotle chicken salad\n",
       "Name: name, dtype: object"
      ]
     },
     "execution_count": 50,
     "metadata": {},
     "output_type": "execute_result"
    }
   ],
   "source": [
    "[groupRecommendation.loc[groupRecommendation['item']== 178151].name][0]"
   ]
  },
  {
   "cell_type": "code",
   "execution_count": 51,
   "metadata": {},
   "outputs": [
    {
     "data": {
      "text/plain": [
       "178151"
      ]
     },
     "execution_count": 51,
     "metadata": {},
     "output_type": "execute_result"
    }
   ],
   "source": [
    "groupRecommendation['item'].iloc[0]"
   ]
  },
  {
   "cell_type": "code",
   "execution_count": 82,
   "metadata": {},
   "outputs": [],
   "source": [
    "dict_recipe_name={}\n",
    "for i in range(len(groupRecommendation)):\n",
    "    name= groupRecommendation['item'].iloc[i]\n",
    "    key= groupRecommendation['name'].iloc[i]\n",
    "    dict_recipe_name[name]=key"
   ]
  },
  {
   "cell_type": "code",
   "execution_count": 87,
   "metadata": {},
   "outputs": [
    {
     "data": {
      "text/plain": [
       "'kicked up banana smoothie'"
      ]
     },
     "execution_count": 87,
     "metadata": {},
     "output_type": "execute_result"
    }
   ],
   "source": [
    "dict_recipe_name.get(325457)"
   ]
  },
  {
   "cell_type": "code",
   "execution_count": 127,
   "metadata": {},
   "outputs": [
    {
     "name": "stdout",
     "output_type": "stream",
     "text": [
      "     item                                        name  predicted_rating\n",
      "0    9054                            asiago baco buns          0.855641\n",
      "1  143126                 neoclassic chocolate mousse          0.779382\n",
      "2   99152         grilled jerk chicken ala bobby flay          0.679645\n",
      "3  412904                                         NaN          0.551613\n",
      "4  189263                 slow cooked italian chicken          0.404392\n",
      "5  134501                         mexican polenta pie          0.158392\n",
      "6    8845  artichoke leaves with parmesan basil aioli          0.061644\n",
      "7  169871       rachael ray s buffalo chicken pot pie          0.022616\n",
      "8   84098                      finnish mushroom salad          0.005478\n",
      "9  109423                                 hot tamales         -0.051466\n"
     ]
    }
   ],
   "source": [
    "# least misery\n",
    "\n",
    "least_misery_df = group_unseen_df.groupby('item').min()\n",
    "least_misery_df = least_misery_df.join(df_recipe['name'], on='item')\n",
    "least_misery_df = least_misery_df.sort_values(by=\"predicted_rating\", ascending=False).reset_index()[['item', 'name', 'predicted_rating']]\n",
    "print(least_misery_df.head(10))"
   ]
  },
  {
   "cell_type": "code",
   "execution_count": 93,
   "metadata": {},
   "outputs": [
    {
     "data": {
      "text/plain": [
       "'kicked up banana smoothie'"
      ]
     },
     "execution_count": 93,
     "metadata": {},
     "output_type": "execute_result"
    }
   ],
   "source": [
    "dict_recipe_name.get(325457)"
   ]
  },
  {
   "cell_type": "code",
   "execution_count": 129,
   "metadata": {},
   "outputs": [],
   "source": [
    "from sklearn.model_selection import train_test_split\n",
    "from sklearn.metrics import precision_recall_fscore_support\n",
    "\n",
    "train_df, test_df = train_test_split(df_filtered, test_size=0.2)\n",
    "\n",
    "item_item = ItemItem(10, min_nbrs=1)  # Minimum (3) and maximum (15) number of neighbors to consider\n",
    "recsys = Recommender.adapt(item_item)\n",
    "recsys.fit(train_df)\n",
    "\n",
    "test_df['predicted_rating'] = recsys.predict(test_df)\n",
    "\n",
    "test_df['relevant'] = test_df['rating'].apply(lambda x: 1 if x>3 else 0)\n",
    "test_df['predicted_relevant'] = test_df['predicted_rating'].apply(lambda x: 1 if x>3 else 0)\n",
    "\n",
    "y_test = list(test_df['relevant'])\n",
    "y_pred = list(test_df['predicted_relevant'])\n",
    "precision, recall, fscore, _ = precision_recall_fscore_support(y_test, y_pred, average=\"binary\")\n",
    "\n",
    "print(\"Precision:\\t\" + str(precision) + \n",
    "      \"\\nRecall:\\t\" + str(recall) + \n",
    "      \"\\nFscore:\\t\" + str(fscore))\n",
    "\n",
    "#precision and recall increase after min_nbrs is reduced"
   ]
  }
 ],
 "metadata": {
  "interpreter": {
   "hash": "b7aa728956a0f5150e20e1db6367e8fc188da26b6fbeb1fa0e5acb08834d5338"
  },
  "kernelspec": {
   "display_name": "Python 3.9.7 64-bit ('lenskit': conda)",
   "language": "python",
   "name": "python3"
  },
  "language_info": {
   "codemirror_mode": {
    "name": "ipython",
    "version": 3
   },
   "file_extension": ".py",
   "mimetype": "text/x-python",
   "name": "python",
   "nbconvert_exporter": "python",
   "pygments_lexer": "ipython3",
   "version": "3.9.7"
  },
  "orig_nbformat": 4
 },
 "nbformat": 4,
 "nbformat_minor": 2
}
